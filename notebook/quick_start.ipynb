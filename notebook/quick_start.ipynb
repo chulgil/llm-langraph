{
 "cells": [
  {
   "cell_type": "markdown",
   "metadata": {},
   "source": [
    "## 라이브러리 설치"
   ]
  },
  {
   "cell_type": "code",
   "execution_count": null,
   "metadata": {},
   "outputs": [],
   "source": []
  },
  {
   "cell_type": "code",
   "execution_count": 11,
   "metadata": {},
   "outputs": [
    {
     "name": "stdout",
     "output_type": "stream",
     "text": [
      "Requirement already satisfied: langgraph in /Users/r00360/Dev/openai/llm-langraph/.venv/lib/python3.10/site-packages (0.3.25)\n",
      "Requirement already satisfied: langsmith in /Users/r00360/Dev/openai/llm-langraph/.venv/lib/python3.10/site-packages (0.3.24)\n",
      "Requirement already satisfied: langchain in /Users/r00360/Dev/openai/llm-langraph/.venv/lib/python3.10/site-packages (0.3.22)\n",
      "Requirement already satisfied: openai in /Users/r00360/Dev/openai/llm-langraph/.venv/lib/python3.10/site-packages (1.70.0)\n",
      "Collecting langchain_openai\n",
      "  Downloading langchain_openai-0.3.12-py3-none-any.whl (61 kB)\n",
      "\u001b[2K     \u001b[38;2;114;156;31m━━━━━━━━━━━━━━━━━━━━━━━━━━━━━━━━━━━━━━━━\u001b[0m \u001b[32m61.3/61.3 kB\u001b[0m \u001b[31m3.1 MB/s\u001b[0m eta \u001b[36m0:00:00\u001b[0m\n",
      "\u001b[?25hRequirement already satisfied: langgraph-prebuilt<0.2,>=0.1.1 in /Users/r00360/Dev/openai/llm-langraph/.venv/lib/python3.10/site-packages (from langgraph) (0.1.8)\n",
      "Requirement already satisfied: xxhash<4.0.0,>=3.5.0 in /Users/r00360/Dev/openai/llm-langraph/.venv/lib/python3.10/site-packages (from langgraph) (3.5.0)\n",
      "Requirement already satisfied: langgraph-checkpoint<3.0.0,>=2.0.10 in /Users/r00360/Dev/openai/llm-langraph/.venv/lib/python3.10/site-packages (from langgraph) (2.0.24)\n",
      "Requirement already satisfied: langchain-core<0.4,>=0.1 in /Users/r00360/Dev/openai/llm-langraph/.venv/lib/python3.10/site-packages (from langgraph) (0.3.50)\n",
      "Requirement already satisfied: langgraph-sdk<0.2.0,>=0.1.42 in /Users/r00360/Dev/openai/llm-langraph/.venv/lib/python3.10/site-packages (from langgraph) (0.1.61)\n",
      "Requirement already satisfied: pydantic<3,>=1 in /Users/r00360/Dev/openai/llm-langraph/.venv/lib/python3.10/site-packages (from langsmith) (2.11.2)\n",
      "Requirement already satisfied: requests<3,>=2 in /Users/r00360/Dev/openai/llm-langraph/.venv/lib/python3.10/site-packages (from langsmith) (2.32.3)\n",
      "Requirement already satisfied: requests-toolbelt<2.0.0,>=1.0.0 in /Users/r00360/Dev/openai/llm-langraph/.venv/lib/python3.10/site-packages (from langsmith) (1.0.0)\n",
      "Requirement already satisfied: zstandard<0.24.0,>=0.23.0 in /Users/r00360/Dev/openai/llm-langraph/.venv/lib/python3.10/site-packages (from langsmith) (0.23.0)\n",
      "Requirement already satisfied: orjson<4.0.0,>=3.9.14 in /Users/r00360/Dev/openai/llm-langraph/.venv/lib/python3.10/site-packages (from langsmith) (3.10.16)\n",
      "Requirement already satisfied: httpx<1,>=0.23.0 in /Users/r00360/Dev/openai/llm-langraph/.venv/lib/python3.10/site-packages (from langsmith) (0.28.1)\n",
      "Requirement already satisfied: packaging>=23.2 in /Users/r00360/Dev/openai/llm-langraph/.venv/lib/python3.10/site-packages (from langsmith) (24.2)\n",
      "Requirement already satisfied: async-timeout<5.0.0,>=4.0.0 in /Users/r00360/Dev/openai/llm-langraph/.venv/lib/python3.10/site-packages (from langchain) (4.0.3)\n",
      "Requirement already satisfied: SQLAlchemy<3,>=1.4 in /Users/r00360/Dev/openai/llm-langraph/.venv/lib/python3.10/site-packages (from langchain) (2.0.40)\n",
      "Requirement already satisfied: langchain-text-splitters<1.0.0,>=0.3.7 in /Users/r00360/Dev/openai/llm-langraph/.venv/lib/python3.10/site-packages (from langchain) (0.3.7)\n",
      "Requirement already satisfied: PyYAML>=5.3 in /Users/r00360/Dev/openai/llm-langraph/.venv/lib/python3.10/site-packages (from langchain) (6.0.2)\n",
      "Requirement already satisfied: distro<2,>=1.7.0 in /Users/r00360/Dev/openai/llm-langraph/.venv/lib/python3.10/site-packages (from openai) (1.9.0)\n",
      "Requirement already satisfied: anyio<5,>=3.5.0 in /Users/r00360/Dev/openai/llm-langraph/.venv/lib/python3.10/site-packages (from openai) (4.9.0)\n",
      "Requirement already satisfied: tqdm>4 in /Users/r00360/Dev/openai/llm-langraph/.venv/lib/python3.10/site-packages (from openai) (4.67.1)\n",
      "Requirement already satisfied: sniffio in /Users/r00360/Dev/openai/llm-langraph/.venv/lib/python3.10/site-packages (from openai) (1.3.1)\n",
      "Requirement already satisfied: typing-extensions<5,>=4.11 in /Users/r00360/Dev/openai/llm-langraph/.venv/lib/python3.10/site-packages (from openai) (4.13.1)\n",
      "Requirement already satisfied: jiter<1,>=0.4.0 in /Users/r00360/Dev/openai/llm-langraph/.venv/lib/python3.10/site-packages (from openai) (0.9.0)\n",
      "Collecting tiktoken<1,>=0.7\n",
      "  Using cached tiktoken-0.9.0-cp310-cp310-macosx_11_0_arm64.whl (1.0 MB)\n",
      "Requirement already satisfied: idna>=2.8 in /Users/r00360/Dev/openai/llm-langraph/.venv/lib/python3.10/site-packages (from anyio<5,>=3.5.0->openai) (3.10)\n",
      "Requirement already satisfied: exceptiongroup>=1.0.2 in /Users/r00360/Dev/openai/llm-langraph/.venv/lib/python3.10/site-packages (from anyio<5,>=3.5.0->openai) (1.2.2)\n",
      "Requirement already satisfied: httpcore==1.* in /Users/r00360/Dev/openai/llm-langraph/.venv/lib/python3.10/site-packages (from httpx<1,>=0.23.0->langsmith) (1.0.7)\n",
      "Requirement already satisfied: certifi in /Users/r00360/Dev/openai/llm-langraph/.venv/lib/python3.10/site-packages (from httpx<1,>=0.23.0->langsmith) (2025.1.31)\n",
      "Requirement already satisfied: h11<0.15,>=0.13 in /Users/r00360/Dev/openai/llm-langraph/.venv/lib/python3.10/site-packages (from httpcore==1.*->httpx<1,>=0.23.0->langsmith) (0.14.0)\n",
      "Requirement already satisfied: tenacity!=8.4.0,<10.0.0,>=8.1.0 in /Users/r00360/Dev/openai/llm-langraph/.venv/lib/python3.10/site-packages (from langchain-core<0.4,>=0.1->langgraph) (9.1.2)\n",
      "Requirement already satisfied: jsonpatch<2.0,>=1.33 in /Users/r00360/Dev/openai/llm-langraph/.venv/lib/python3.10/site-packages (from langchain-core<0.4,>=0.1->langgraph) (1.33)\n",
      "Requirement already satisfied: ormsgpack<2.0.0,>=1.8.0 in /Users/r00360/Dev/openai/llm-langraph/.venv/lib/python3.10/site-packages (from langgraph-checkpoint<3.0.0,>=2.0.10->langgraph) (1.9.1)\n",
      "Requirement already satisfied: annotated-types>=0.6.0 in /Users/r00360/Dev/openai/llm-langraph/.venv/lib/python3.10/site-packages (from pydantic<3,>=1->langsmith) (0.7.0)\n",
      "Requirement already satisfied: typing-inspection>=0.4.0 in /Users/r00360/Dev/openai/llm-langraph/.venv/lib/python3.10/site-packages (from pydantic<3,>=1->langsmith) (0.4.0)\n",
      "Requirement already satisfied: pydantic-core==2.33.1 in /Users/r00360/Dev/openai/llm-langraph/.venv/lib/python3.10/site-packages (from pydantic<3,>=1->langsmith) (2.33.1)\n",
      "Requirement already satisfied: charset-normalizer<4,>=2 in /Users/r00360/Dev/openai/llm-langraph/.venv/lib/python3.10/site-packages (from requests<3,>=2->langsmith) (3.4.1)\n",
      "Requirement already satisfied: urllib3<3,>=1.21.1 in /Users/r00360/Dev/openai/llm-langraph/.venv/lib/python3.10/site-packages (from requests<3,>=2->langsmith) (2.3.0)\n",
      "Collecting regex>=2022.1.18\n",
      "  Using cached regex-2024.11.6-cp310-cp310-macosx_11_0_arm64.whl (284 kB)\n",
      "Requirement already satisfied: jsonpointer>=1.9 in /Users/r00360/Dev/openai/llm-langraph/.venv/lib/python3.10/site-packages (from jsonpatch<2.0,>=1.33->langchain-core<0.4,>=0.1->langgraph) (3.0.0)\n",
      "Installing collected packages: regex, tiktoken, langchain_openai\n",
      "Successfully installed langchain_openai-0.3.12 regex-2024.11.6 tiktoken-0.9.0\n",
      "\n",
      "\u001b[1m[\u001b[0m\u001b[34;49mnotice\u001b[0m\u001b[1;39;49m]\u001b[0m\u001b[39;49m A new release of pip is available: \u001b[0m\u001b[31;49m23.0.1\u001b[0m\u001b[39;49m -> \u001b[0m\u001b[32;49m25.0.1\u001b[0m\n",
      "\u001b[1m[\u001b[0m\u001b[34;49mnotice\u001b[0m\u001b[1;39;49m]\u001b[0m\u001b[39;49m To update, run: \u001b[0m\u001b[32;49mpip install --upgrade pip\u001b[0m\n"
     ]
    }
   ],
   "source": [
    "!pip install -U langgraph langsmith langchain openai langchain_openai"
   ]
  },
  {
   "cell_type": "markdown",
   "metadata": {},
   "source": [
    "## API Key 설정\n"
   ]
  },
  {
   "cell_type": "code",
   "execution_count": 14,
   "metadata": {},
   "outputs": [],
   "source": [
    "import os\n",
    "from uuid import uuid4\n",
    "from dotenv import load_dotenv\n",
    "\n",
    "load_dotenv()  # .env를 읽어서 os.environ에 적용\n",
    "\n",
    "unique_id = uuid4().hex[0:8]\n",
    "\n",
    "# UNIQUE_ID를 동적으로 적용\n",
    "project_name = os.getenv(\"LANGCHAIN_PROJECT\", \"\").replace(\"${UNIQUE_ID}\", unique_id)\n",
    "os.environ[\"LANGCHAIN_PROJECT\"] = project_name\n"
   ]
  },
  {
   "cell_type": "code",
   "execution_count": 5,
   "metadata": {},
   "outputs": [
    {
     "data": {
      "text/plain": [
       "'1b57d842'"
      ]
     },
     "execution_count": 5,
     "metadata": {},
     "output_type": "execute_result"
    }
   ],
   "source": [
    "unique_id"
   ]
  },
  {
   "cell_type": "markdown",
   "metadata": {},
   "source": [
    "## StateGraph 생성\n",
    "\n",
    "그래프를 정의할 때 가장 먼저 해야 할 일은 그래프의 상태(State)를 정의하는 것입니다. \n",
    "상태는 그래프의 스키마와 상태에 대한 업데이트를 적용하는 방법을 지정하는 리듀서(reducer) 함수로 구성됩니다. \n",
    "우리의 예시에서 상태(State)는 하나의 키를 가진 TypedDict로 정의되며, 이 키는 messages입니다. \n",
    "messages 키는 add_messages 리듀서 함수로 주석이 달려 있으며, 이는 LangGraph에게 새로운 메시지를 기존 목록에 추가하도록 지시하고, 덮어쓰지 않도록 합니다. 주석이 없는 상태 키는 각 업데이트 시 덮어써지며 가장 최근의 값이 저장됩니다. \n",
    "참고 ( https://langchain-ai.github.io/langgraph/reference/graphs/?h=add+messages#add_messages )"
   ]
  },
  {
   "cell_type": "code",
   "execution_count": 15,
   "metadata": {},
   "outputs": [],
   "source": [
    "from typing import Annotated\n",
    "from typing_extensions import TypedDict\n",
    "\n",
    "from langgraph.graph import StateGraph, START, END\n",
    "from langgraph.graph.message import add_messages\n",
    "\n",
    "class State(TypedDict):\n",
    "    messages: Annotated[list, add_messages]\n",
    "    \n",
    "graph_builder = StateGraph(State)"
   ]
  },
  {
   "cell_type": "code",
   "execution_count": 16,
   "metadata": {},
   "outputs": [],
   "source": [
    "from langchain_openai import ChatOpenAI\n",
    "\n",
    "llm = ChatOpenAI(model=\"gpt-4o\",temperature=0)\n",
    "\n",
    "def chatbot(state: State):\n",
    "    return {\"messages\": [llm.invoke(state[\"messages\"])]}\n",
    "\n",
    "# The first argument is the unique node name\n",
    "# The second argument is the function or object that will be called whenever\n",
    "# the node is used.\n",
    "graph_builder.add_node(\"chatbot\", chatbot)\n",
    "graph_builder.set_entry_point(\"chatbot\")\n",
    "graph_builder.set_finish_point(\"chatbot\")\n",
    "graph = graph_builder.compile()\n"
   ]
  },
  {
   "cell_type": "code",
   "execution_count": 9,
   "metadata": {},
   "outputs": [
    {
     "name": "stdout",
     "output_type": "stream",
     "text": [
      "\n",
      "\u001b[1m[\u001b[0m\u001b[34;49mnotice\u001b[0m\u001b[1;39;49m]\u001b[0m\u001b[39;49m A new release of pip is available: \u001b[0m\u001b[31;49m23.0.1\u001b[0m\u001b[39;49m -> \u001b[0m\u001b[32;49m25.0.1\u001b[0m\n",
      "\u001b[1m[\u001b[0m\u001b[34;49mnotice\u001b[0m\u001b[1;39;49m]\u001b[0m\u001b[39;49m To update, run: \u001b[0m\u001b[32;49mpip install --upgrade pip\u001b[0m\n"
     ]
    }
   ],
   "source": [
    "!pip install -qU duckduckgo-search langchain-community"
   ]
  },
  {
   "cell_type": "code",
   "execution_count": null,
   "metadata": {},
   "outputs": [
    {
     "data": {
      "text/plain": [
       "\"Langraph: nodes, states, and edges. At the heart of LangGraph is the concept of a stateful graph:. State: Represents the context or memory that is maintained and updated as the computation ... LangGraph is a message-passing framework for building modular, graph-based systems. At its core, it focuses on communication between nodes via structured states and logical edges, enabling a ... In LangGraph, each node represents an LLM agent, and the edges are the communication channels between these agents. This structure allows for clear and manageable workflows, where each agent performs specific tasks and passes information to other agents as needed. State management. One of LangGraph's standout features is its automatic state ... LangGraph. Again considering the image blow, a snippet of LangGraph Python code is shown on the left, with the graph drawn out on the right. You can see in the code where the node is defined, builder.add_node with a ReturnNodeValue.For each node having an edge defined builder.add_edge.. You also see that a is set as the entry_point and d as the finish_point. LangGraph Nodes. Nodes are defined as Python functions that can perform a set of actions. For example, a node can integrate with a large language model, process information, call an external API, or any other task. A LangGraph node takes the state of the graph as a parameter and returns an updated state after it is executed.\""
      ]
     },
     "execution_count": 17,
     "metadata": {},
     "output_type": "execute_result"
    }
   ],
   "source": [
    "from langchain_community.tools import DuckDuckGoSearchRun\n",
    "\n",
    "tool = DuckDuckGoSearchRun()\n",
    "tools = [tool]\n",
    "tool.invoke(\"What's a 'node' in LangGraph?\")"
   ]
  },
  {
   "cell_type": "code",
   "execution_count": 23,
   "metadata": {},
   "outputs": [
    {
     "data": {
      "text/plain": [
       "<langgraph.graph.state.StateGraph at 0x124aee710>"
      ]
     },
     "execution_count": 23,
     "metadata": {},
     "output_type": "execute_result"
    }
   ],
   "source": [
    "from typing import Annotated\n",
    "\n",
    "from langchain_openai import ChatOpenAI\n",
    "from langchain_community.tools import DuckDuckGoSearchRun\n",
    "from langchain_core.messages import BaseMessage\n",
    "from typing_extensions import TypedDict\n",
    "\n",
    "from langgraph.graph import StateGraph, START, END\n",
    "from langgraph.graph.message import add_messages\n",
    "from langgraph.prebuilt import ToolNode, tools_condition\n",
    "\n",
    "\n",
    "class State(TypedDict):\n",
    "    messages: Annotated[list, add_messages]\n",
    "\n",
    "\n",
    "graph_builder = StateGraph(State)\n",
    "\n",
    "\n",
    "tool = DuckDuckGoSearchRun()\n",
    "tools = [tool]\n",
    "llm = ChatOpenAI(model=\"gpt-4o\",temperature=0,)\n",
    "llm_with_tools = llm.bind_tools(tools)\n",
    "\n",
    "\n",
    "def chatbot(state: State):\n",
    "    return {\"messages\": [llm_with_tools.invoke(state[\"messages\"])]}\n",
    "\n",
    "\n",
    "graph_builder.add_node(\"chatbot\", chatbot)\n",
    "\n",
    "tool_node = ToolNode(tools=[tool])\n",
    "graph_builder.add_node(\"tools\", tool_node)\n",
    "\n",
    "graph_builder.add_conditional_edges(\n",
    "    \"chatbot\",\n",
    "    tools_condition,\n",
    ")\n",
    "# Any time a tool is called, we return to the chatbot to decide the next step\n",
    "graph_builder.add_edge(\"tools\", \"chatbot\")\n",
    "graph_builder.add_edge(START, \"chatbot\")\n",
    "\n"
   ]
  },
  {
   "cell_type": "code",
   "execution_count": 24,
   "metadata": {},
   "outputs": [
    {
     "data": {
      "image/png": "[encoded data removed]",
      "text/plain": [
       "<IPython.core.display.Image object>"
      ]
     },
     "metadata": {},
     "output_type": "display_data"
    }
   ],
   "source": [
    "from IPython.display import Image, display\n",
    "try:\n",
    "    display(Image(graph.get_graph().draw_mermaid_png()))\n",
    "except Exception:\n",
    "    # This requires some extra dependencies and is optional\n",
    "    pass"
   ]
  }
 ],
 "metadata": {
  "kernelspec": {
   "display_name": "Python (llm-langraph)",
   "language": "python",
   "name": "llm-langraph"
  },
  "language_info": {
   "codemirror_mode": {
    "name": "ipython",
    "version": 3
   },
   "file_extension": ".py",
   "mimetype": "text/x-python",
   "name": "python",
   "nbconvert_exporter": "python",
   "pygments_lexer": "ipython3",
   "version": "3.10.12"
  }
 },
 "nbformat": 4,
 "nbformat_minor": 2
}
