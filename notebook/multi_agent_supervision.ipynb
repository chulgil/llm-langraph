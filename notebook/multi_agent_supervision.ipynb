{
 "cells": [
  {
   "cell_type": "markdown",
   "metadata": {},
   "source": [
    "## Agent Supervisor 기초예제\n",
    "\n",
    "아래에서는 **작업을 위임(delegate)하는 데 도움을 주는 에이전트 감독관(agent supervisor)과 함께 에이전트 그룹**을 만들 것입니다.\n",
    "\n"
   ]
  },
  {
   "cell_type": "code",
   "execution_count": null,
   "metadata": {},
   "outputs": [],
   "source": [
    "%pip install langchain langchain_openai langsmith pandas langchain_experimental matplotlib langgraph langchain_core duckduckgo-search langchain-community"
   ]
  },
  {
   "cell_type": "markdown",
   "metadata": {},
   "source": [
    "### Create tools\n",
    "\n",
    "> 검색 엔진을 사용해 웹 리서치(web research)를 수행하는 에이전트와 그래프를 생성하는 에이전트"
   ]
  },
  {
   "cell_type": "code",
   "execution_count": 3,
   "metadata": {},
   "outputs": [],
   "source": [
    "from typing import Annotated\n",
    "\n",
    "from langchain_community.tools import DuckDuckGoSearchResults\n",
    "from langchain_community.utilities import DuckDuckGoSearchAPIWrapper\n",
    "\n",
    "from langchain_experimental.tools import PythonREPLTool\n",
    "\n",
    "\n",
    "wrapper = DuckDuckGoSearchAPIWrapper(region=\"de-de\", time=\"d\", max_results=5)\n",
    "duck_tool = DuckDuckGoSearchResults(api_wrapper=wrapper, source=\"news\")\n",
    "\n",
    "# This executes code locally, which can be unsafe\n",
    "python_repl_tool = PythonREPLTool()"
   ]
  },
  {
   "cell_type": "markdown",
   "metadata": {},
   "source": [
    "## Helper Utilities\n",
    "\n",
    "> 그래프에서 노드를 생성하는 데 사용할 헬퍼 함수를 정의하세요. \n",
    ">\n",
    "> 이 함수는 **에이전트 응답을 사람의 메시지로 변환하는 작업을 처리**합니다. \n",
    ">\n",
    "> **이는 그래프의 글로벌 상태에 추가하는 방법이기 때문에 중요**합니다.\n"
   ]
  },
  {
   "cell_type": "code",
   "execution_count": 4,
   "metadata": {},
   "outputs": [],
   "source": [
    "from langchain_core.messages import HumanMessage\n",
    "\n",
    "def agent_node(state, agent, name):\n",
    "    result = agent.invoke(state)\n",
    "    return {\"messages\": [HumanMessage(content=result[\"messages\"][-1].content, name=name)]}"
   ]
  },
  {
   "cell_type": "markdown",
   "metadata": {},
   "source": [
    "## Create Agent Supervisor\n",
    "\n",
    "> 이 함수는 **함수 호출(function calling)을 사용**하여 **다음 작업자 노드를 선택하거나 처리를 완료(finish)**합니다."
   ]
  },
  {
   "cell_type": "code",
   "execution_count": 5,
   "metadata": {},
   "outputs": [],
   "source": [
    "from langchain_core.prompts import ChatPromptTemplate, MessagesPlaceholder\n",
    "from langchain_openai import ChatOpenAI\n",
    "from enum import Enum\n",
    "from pydantic import BaseModel\n",
    "from typing import Literal\n",
    "\n",
    "members = [\"Researcher\", \"Coder\"]\n",
    "\n",
    "# 다음 작업자들 간의 대화를 관리하는 관리자로서 당신은 다음 작업을 수행해야 합니다: {members}.\n",
    "# 아래의 사용자 요청을 참고하여, 다음 작업을 수행할 작업자를 지정하세요.\n",
    "# 각 작업자는 작업을 수행하고 그 결과와 상태를 보고할 것입니다.\n",
    "# 모든 작업이 완료되면 \"FINISH\"로 응답하세요.\n",
    "\n",
    "system_prompt = (\n",
    "    \"You are a supervisor tasked with managing a conversation between the\"\n",
    "    \" following workers:  {members}. Given the following user request,\"\n",
    "    \" respond with the worker to act next. Each worker will perform a\"\n",
    "    \" task and respond with their results and status. When finished,\"\n",
    "    \" respond with FINISH.\"\n",
    ")\n",
    "\n",
    "# Our team supervisor is an LLM node. It just picks the next agent to process\n",
    "# and decides when the work is completed\n",
    "options = [\"FINISH\"] + members\n",
    "class routeResponse(BaseModel):\n",
    "    next: Literal[\"FINISH\", \"Researcher\", \"Coder\"]\n",
    "\n",
    "\n",
    "# 위 대화를 참고하여, 누가 다음으로 행동해야 하나요?\n",
    "# 아니면 작업을 FINISH해야 하나요?\n",
    "# 다음 중 하나를 선택하세요: {options}\n",
    "\n",
    "prompt = ChatPromptTemplate.from_messages(\n",
    "    [\n",
    "        (\"system\", system_prompt),\n",
    "        MessagesPlaceholder(variable_name=\"messages\"),\n",
    "        (\n",
    "            \"system\",\n",
    "            \"Given the conversation above, who should act next?\"\n",
    "            \" Or should we FINISH? Select one of: {options}\",\n",
    "        ),\n",
    "    ]\n",
    ").partial(options=str(options), members=\", \".join(members))\n",
    "\n",
    "\n",
    "llm = ChatOpenAI(model=\"gpt-4o\")\n",
    "\n",
    "def supervisor_agent(state):\n",
    "    supervisor_chain = (\n",
    "        prompt\n",
    "        | llm.with_structured_output(routeResponse)\n",
    "    )\n",
    "    return supervisor_chain.invoke(state)"
   ]
  },
  {
   "cell_type": "markdown",
   "metadata": {},
   "source": [
    "## Construct Graph\n",
    "\n",
    "> 이제 그래프를 구축할 준비가 되었습니다. 아래에, 방금 정의한 함수를 사용하여 상태 및 작업자 노드를 정의하세요.\n"
   ]
  },
  {
   "cell_type": "code",
   "execution_count": 6,
   "metadata": {},
   "outputs": [
    {
     "data": {
      "text/plain": [
       "<langgraph.graph.state.StateGraph at 0x126b63850>"
      ]
     },
     "execution_count": 6,
     "metadata": {},
     "output_type": "execute_result"
    }
   ],
   "source": [
    "import functools\n",
    "import operator\n",
    "from typing import Sequence, TypedDict\n",
    "\n",
    "from langchain_core.messages import BaseMessage\n",
    "\n",
    "from langgraph.graph import END, StateGraph, START\n",
    "from langgraph.prebuilt import create_react_agent\n",
    "\n",
    "# The agent state is the input to each node in the graph\n",
    "class AgentState(TypedDict):\n",
    "    # The annotation tells the graph that new messages will always\n",
    "    # be added to the current states\n",
    "    messages: Annotated[Sequence[BaseMessage], operator.add]\n",
    "    # The 'next' field indicates where to route to next\n",
    "    next: str\n",
    "\n",
    "\n",
    "research_agent = create_react_agent(llm, tools=[tavily_tool])\n",
    "research_node = functools.partial(agent_node, agent=research_agent, name=\"Researcher\")\n",
    "\n",
    "# NOTE: THIS PERFORMS ARBITRARY CODE EXECUTION. PROCEED WITH CAUTION\n",
    "code_agent = create_react_agent(llm, tools=[python_repl_tool])\n",
    "code_node = functools.partial(agent_node, agent=code_agent, name=\"Coder\")\n",
    "\n",
    "workflow = StateGraph(AgentState)\n",
    "workflow.add_node(\"Researcher\", research_node)\n",
    "workflow.add_node(\"Coder\", code_node)\n",
    "workflow.add_node(\"supervisor\", supervisor_agent)"
   ]
  },
  {
   "cell_type": "code",
   "execution_count": 7,
   "metadata": {},
   "outputs": [],
   "source": [
    "for member in members:\n",
    "    # We want our workers to ALWAYS \"report back\" to the supervisor when done\n",
    "    workflow.add_edge(member, \"supervisor\")\n",
    "# The supervisor populates the \"next\" field in the graph state\n",
    "# which routes to a node or finishes\n",
    "conditional_map = {k: k for k in members}\n",
    "conditional_map[\"FINISH\"] = END\n",
    "workflow.add_conditional_edges(\"supervisor\", lambda x: x[\"next\"], conditional_map)\n",
    "# Finally, add entrypoint\n",
    "workflow.add_edge(START, \"supervisor\")\n",
    "\n",
    "graph = workflow.compile()"
   ]
  },
  {
   "cell_type": "code",
   "execution_count": 9,
   "metadata": {},
   "outputs": [
    {
     "data": {
      "image/png": "[encoded data removed]",
      "text/plain": [
       "<IPython.core.display.Image object>"
      ]
     },
     "metadata": {},
     "output_type": "display_data"
    }
   ],
   "source": [
    "from IPython.display import Image, display\n",
    "\n",
    "try:\n",
    "    display(Image(graph.get_graph(xray=True).draw_mermaid_png()))\n",
    "except Exception:\n",
    "    # This requires some extra dependencies and is optional\n",
    "    pass"
   ]
  },
  {
   "cell_type": "code",
   "execution_count": 10,
   "metadata": {},
   "outputs": [
    {
     "name": "stdout",
     "output_type": "stream",
     "text": [
      "{'supervisor': {'next': 'Coder'}}\n",
      "----\n"
     ]
    },
    {
     "name": "stderr",
     "output_type": "stream",
     "text": [
      "Python REPL can execute arbitrary code. Use with caution.\n"
     ]
    },
    {
     "name": "stdout",
     "output_type": "stream",
     "text": [
      "{'Coder': {'messages': [HumanMessage(content='The code to print \"Hello, World!\" in Python is:\\n\\n```python\\nprint(\\'Hello, World!\\')\\n```\\n\\nWhen you run this code, the output will be:\\n\\n```\\nHello, World!\\n```', additional_kwargs={}, response_metadata={}, name='Coder')]}}\n",
      "----\n",
      "{'supervisor': {'next': 'FINISH'}}\n",
      "----\n"
     ]
    }
   ],
   "source": [
    "for s in graph.stream(\n",
    "    {\n",
    "        \"messages\": [\n",
    "            HumanMessage(content=\"Code hello world and print it to the terminal\")\n",
    "        ]\n",
    "    }\n",
    "):\n",
    "    if \"__end__\" not in s:\n",
    "        print(s)\n",
    "        print(\"----\")"
   ]
  },
  {
   "cell_type": "code",
   "execution_count": 11,
   "metadata": {},
   "outputs": [
    {
     "name": "stdout",
     "output_type": "stream",
     "text": [
      "{'supervisor': {'next': 'Researcher'}}\n",
      "----\n",
      "{'Researcher': {'messages': [HumanMessage(content='### Research Report on Pikas\\n\\n#### Introduction\\nPikas are small, herbivorous mammals belonging to the family Ochotonidae, distinctively known for their round bodies, small size, and no visible tails. They are more closely related to rabbits and hares, sharing the order Lagomorpha. Often referred to as \"whistling hares\" due to their high-pitched alarm calls, pikas can be found in mountainous regions across North America and Asia.\\n\\n#### Physical Characteristics\\nPikas are small, with a body length of 15 to 23 centimeters (6 to 9 inches) and weighing between 120 to 350 grams. Their fur is dense and soft, typically grey or brown, allowing them to blend into rocky environments. \\n\\n#### Habitat and Distribution\\nPikas primarily inhabit cold climates, thriving in rocky mountain slopes and open steppe environments. In North America, they are commonly found in the Rocky Mountains, the Sierra Nevada, and certain areas of Canada and Alaska. In Asia, they are widespread across the Tibetan Plateau and other high-altitude regions. Their affinity for talus slopes and rocky debris fields provides strategic cover and nesting opportunities.\\n\\n#### Behavior and Ecology\\nPikas are diurnal, and unlike many other burrowing animals, they do not hibernate. Instead, they are known for their unique behavior of haying—collecting and storing dried grasses and vegetation during the summer to sustain themselves through harsh winters. Pikas are territorial and solitary creatures, often engaging in vocalizations to ward off intruders and signal alarm.\\n\\n#### Reproduction\\nThe breeding season for pikas usually occurs in spring, with females typically giving birth to two or three litters per year. Each litter comprises two to six offspring. Young pikas are weaned after about a month and soon take on the responsibility of gathering their food.\\n\\n#### Conservation Status\\nMany pika species are experiencing vulnerability due to climate change, as their high-altitude habitats are sensitive to temperature changes. Global warming threatens to push these cold-adapted species further upslope, reducing their habitat and increasing competition for resources. As a result, certain species, like the American pika, have been studied as indicators of climate change impact.\\n\\n#### Conclusion\\nPikas are fascinating, resilient creatures well-adapted to some of the planet\\'s most challenging environments. They play a critical role in their ecosystems, helping in the turnover of nutrients and serving as prey for various predators. Understanding and protecting these unique animals are crucial, particularly in the face of ongoing environmental changes.\\n\\n### References\\nDue to the breadth of information available, further research from scholarly articles, wildlife conservation reports, and climate studies is recommended for a comprehensive understanding of pikas and their ecological role.', additional_kwargs={}, response_metadata={}, name='Researcher')]}}\n",
      "----\n",
      "{'supervisor': {'next': 'FINISH'}}\n",
      "----\n"
     ]
    }
   ],
   "source": [
    "for s in graph.stream(\n",
    "    {\"messages\": [HumanMessage(content=\"Write a brief research report on pikas.\")]},\n",
    "    {\"recursion_limit\": 10},\n",
    "):\n",
    "    if \"__end__\" not in s:\n",
    "        print(s)\n",
    "        print(\"----\")"
   ]
  },
  {
   "cell_type": "code",
   "execution_count": 12,
   "metadata": {},
   "outputs": [
    {
     "name": "stdout",
     "output_type": "stream",
     "text": [
      "{'supervisor': {'next': 'Researcher'}}\n",
      "----\n",
      "{'Researcher': {'messages': [HumanMessage(content='사막여우(Fennec Fox)는 북아프리카의 사하라 사막에 서식하는 작은 야행성 여우로, 학명은 Vulpes zerda입니다. 이들은 특히 큰 귀로 유명하며, 이는 체열 조절과 사막 내에서의 소리 감지에 도움을 줍니다. 사막여우의 몸길이는 약 24-41 cm, 귀 길이는 10-15 cm이며, 꼬리 길이는 약 18-31 cm에 달합니다.\\n\\n사막여우는 주로 야행성으로, 낮 동안의 뜨거운 사막 기온을 피하여 밤에 활동합니다. 이들은 주로 작은 포유동물, 곤충, 과일 등을 먹으며, 물이 부족한 환경에서도 생존할 수 있도록 신장이 발달해 물을 효율적으로 보존합니다.\\n\\n사회적 동물로 무리를 지어 생활하며, 굴을 파고 그 안에서 번식 및 보호를 받습니다. 천적은 주로 올빼미와 같은 조류들이며, 인간 활동으로 인해 서식지가 위협받기도 합니다.\\n\\n사막여우는 그 귀여운 외모로 인해 반려동물로 인기가 있지만, 이는 자연 서식지를 위협할 수 있으므로 신중한 접근이 필요합니다. 자연 상태에서 이들은 평균적으로 10년 정도 살며, 포식자로부터 보호받기 위해 사회적 구조와 여러 가지 방어 기제를 발전시켰습니다.', additional_kwargs={}, response_metadata={}, name='Researcher')]}}\n",
      "----\n",
      "{'supervisor': {'next': 'FINISH'}}\n",
      "----\n"
     ]
    }
   ],
   "source": [
    "for s in graph.stream(\n",
    "    {\"messages\": [HumanMessage(content=\"사막여우에 대한 간략한 리포트를 한글로 작성해줘.\")]},\n",
    "    {\"recursion_limit\": 10},\n",
    "):\n",
    "    if \"__end__\" not in s:\n",
    "        print(s)\n",
    "        print(\"----\")"
   ]
  }
 ],
 "metadata": {
  "kernelspec": {
   "display_name": "llm-app",
   "language": "python",
   "name": "python3"
  },
  "language_info": {
   "codemirror_mode": {
    "name": "ipython",
    "version": 3
   },
   "file_extension": ".py",
   "mimetype": "text/x-python",
   "name": "python",
   "nbconvert_exporter": "python",
   "pygments_lexer": "ipython3",
   "version": "3.10.12"
  }
 },
 "nbformat": 4,
 "nbformat_minor": 2
}
