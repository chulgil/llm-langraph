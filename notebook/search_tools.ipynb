{
 "cells": [
  {
   "cell_type": "markdown",
   "metadata": {},
   "source": [
    "# Search Tool 레퍼런스\n",
    "\n"
   ]
  },
  {
   "cell_type": "code",
   "execution_count": 1,
   "metadata": {},
   "outputs": [
    {
     "name": "stdout",
     "output_type": "stream",
     "text": [
      "Requirement already satisfied: langchain in /Users/r00360/Dev/openai/llm-langraph/.venv/lib/python3.10/site-packages (0.3.22)\n",
      "Requirement already satisfied: langchain_openai in /Users/r00360/Dev/openai/llm-langraph/.venv/lib/python3.10/site-packages (0.3.12)\n",
      "Requirement already satisfied: langsmith in /Users/r00360/Dev/openai/llm-langraph/.venv/lib/python3.10/site-packages (0.3.24)\n",
      "Collecting pandas\n",
      "  Downloading pandas-2.2.3-cp310-cp310-macosx_11_0_arm64.whl (11.3 MB)\n",
      "\u001b[2K     \u001b[38;2;114;156;31m━━━━━━━━━━━━━━━━━━━━━━━━━━━━━━━━━━━━━━━━\u001b[0m \u001b[32m11.3/11.3 MB\u001b[0m \u001b[31m19.0 MB/s\u001b[0m eta \u001b[36m0:00:00\u001b[0mm eta \u001b[36m0:00:01\u001b[0m[36m0:00:01\u001b[0m\n",
      "\u001b[?25hCollecting langchain_experimental\n",
      "  Downloading langchain_experimental-0.3.4-py3-none-any.whl (209 kB)\n",
      "\u001b[2K     \u001b[38;2;114;156;31m━━━━━━━━━━━━━━━━━━━━━━━━━━━━━━━━━━━━━━\u001b[0m \u001b[32m209.2/209.2 kB\u001b[0m \u001b[31m21.2 MB/s\u001b[0m eta \u001b[36m0:00:00\u001b[0m\n",
      "\u001b[?25hCollecting matplotlib\n",
      "  Downloading matplotlib-3.10.1-cp310-cp310-macosx_11_0_arm64.whl (8.0 MB)\n",
      "\u001b[2K     \u001b[38;2;114;156;31m━━━━━━━━━━━━━━━━━━━━━━━━━━━━━━━━━━━━━━━━\u001b[0m \u001b[32m8.0/8.0 MB\u001b[0m \u001b[31m22.5 MB/s\u001b[0m eta \u001b[36m0:00:00\u001b[0mm eta \u001b[36m0:00:01\u001b[0m0:01\u001b[0m:01\u001b[0m\n",
      "\u001b[?25hRequirement already satisfied: langgraph in /Users/r00360/Dev/openai/llm-langraph/.venv/lib/python3.10/site-packages (0.3.25)\n",
      "Requirement already satisfied: langchain_core in /Users/r00360/Dev/openai/llm-langraph/.venv/lib/python3.10/site-packages (0.3.50)\n",
      "Requirement already satisfied: duckduckgo-search in /Users/r00360/Dev/openai/llm-langraph/.venv/lib/python3.10/site-packages (2025.4.1)\n",
      "Requirement already satisfied: langchain-community in /Users/r00360/Dev/openai/llm-langraph/.venv/lib/python3.10/site-packages (0.3.20)\n",
      "Collecting chromadb\n",
      "  Downloading chromadb-1.0.3-cp39-abi3-macosx_11_0_arm64.whl (16.9 MB)\n",
      "\u001b[2K     \u001b[38;2;114;156;31m━━━━━━━━━━━━━━━━━━━━━━━━━━━━━━━━━━━━━━━━\u001b[0m \u001b[32m16.9/16.9 MB\u001b[0m \u001b[31m29.2 MB/s\u001b[0m eta \u001b[36m0:00:00\u001b[0mm eta \u001b[36m0:00:01\u001b[0m[36m0:00:01\u001b[0m\n",
      "\u001b[?25hRequirement already satisfied: PyYAML>=5.3 in /Users/r00360/Dev/openai/llm-langraph/.venv/lib/python3.10/site-packages (from langchain) (6.0.2)\n",
      "Requirement already satisfied: async-timeout<5.0.0,>=4.0.0 in /Users/r00360/Dev/openai/llm-langraph/.venv/lib/python3.10/site-packages (from langchain) (4.0.3)\n",
      "Requirement already satisfied: pydantic<3.0.0,>=2.7.4 in /Users/r00360/Dev/openai/llm-langraph/.venv/lib/python3.10/site-packages (from langchain) (2.11.2)\n",
      "Requirement already satisfied: requests<3,>=2 in /Users/r00360/Dev/openai/llm-langraph/.venv/lib/python3.10/site-packages (from langchain) (2.32.3)\n",
      "Requirement already satisfied: SQLAlchemy<3,>=1.4 in /Users/r00360/Dev/openai/llm-langraph/.venv/lib/python3.10/site-packages (from langchain) (2.0.40)\n",
      "Requirement already satisfied: langchain-text-splitters<1.0.0,>=0.3.7 in /Users/r00360/Dev/openai/llm-langraph/.venv/lib/python3.10/site-packages (from langchain) (0.3.7)\n",
      "Requirement already satisfied: tiktoken<1,>=0.7 in /Users/r00360/Dev/openai/llm-langraph/.venv/lib/python3.10/site-packages (from langchain_openai) (0.9.0)\n",
      "Requirement already satisfied: openai<2.0.0,>=1.68.2 in /Users/r00360/Dev/openai/llm-langraph/.venv/lib/python3.10/site-packages (from langchain_openai) (1.70.0)\n",
      "Requirement already satisfied: httpx<1,>=0.23.0 in /Users/r00360/Dev/openai/llm-langraph/.venv/lib/python3.10/site-packages (from langsmith) (0.28.1)\n",
      "Requirement already satisfied: orjson<4.0.0,>=3.9.14 in /Users/r00360/Dev/openai/llm-langraph/.venv/lib/python3.10/site-packages (from langsmith) (3.10.16)\n",
      "Requirement already satisfied: packaging>=23.2 in /Users/r00360/Dev/openai/llm-langraph/.venv/lib/python3.10/site-packages (from langsmith) (24.2)\n",
      "Requirement already satisfied: zstandard<0.24.0,>=0.23.0 in /Users/r00360/Dev/openai/llm-langraph/.venv/lib/python3.10/site-packages (from langsmith) (0.23.0)\n",
      "Requirement already satisfied: requests-toolbelt<2.0.0,>=1.0.0 in /Users/r00360/Dev/openai/llm-langraph/.venv/lib/python3.10/site-packages (from langsmith) (1.0.0)\n",
      "Collecting pytz>=2020.1\n",
      "  Downloading pytz-2025.2-py2.py3-none-any.whl (509 kB)\n",
      "\u001b[2K     \u001b[38;2;114;156;31m━━━━━━━━━━━━━━━━━━━━━━━━━━━━━━━━━━━━━━\u001b[0m \u001b[32m509.2/509.2 kB\u001b[0m \u001b[31m21.6 MB/s\u001b[0m eta \u001b[36m0:00:00\u001b[0m\n",
      "\u001b[?25hRequirement already satisfied: numpy>=1.22.4 in /Users/r00360/Dev/openai/llm-langraph/.venv/lib/python3.10/site-packages (from pandas) (2.2.4)\n",
      "Collecting tzdata>=2022.7\n",
      "  Downloading tzdata-2025.2-py2.py3-none-any.whl (347 kB)\n",
      "\u001b[2K     \u001b[38;2;114;156;31m━━━━━━━━━━━━━━━━━━━━━━━━━━━━━━━━━━━━━━\u001b[0m \u001b[32m347.8/347.8 kB\u001b[0m \u001b[31m24.1 MB/s\u001b[0m eta \u001b[36m0:00:00\u001b[0m\n",
      "\u001b[?25hRequirement already satisfied: python-dateutil>=2.8.2 in /Users/r00360/Dev/openai/llm-langraph/.venv/lib/python3.10/site-packages (from pandas) (2.9.0.post0)\n",
      "Collecting pyparsing>=2.3.1\n",
      "  Downloading pyparsing-3.2.3-py3-none-any.whl (111 kB)\n",
      "\u001b[2K     \u001b[38;2;114;156;31m━━━━━━━━━━━━━━━━━━━━━━━━━━━━━━━━━━━━━━\u001b[0m \u001b[32m111.1/111.1 kB\u001b[0m \u001b[31m13.1 MB/s\u001b[0m eta \u001b[36m0:00:00\u001b[0m\n",
      "\u001b[?25hCollecting fonttools>=4.22.0\n",
      "  Downloading fonttools-4.57.0-cp310-cp310-macosx_10_9_universal2.whl (2.8 MB)\n",
      "\u001b[2K     \u001b[38;2;114;156;31m━━━━━━━━━━━━━━━━━━━━━━━━━━━━━━━━━━━━━━━━\u001b[0m \u001b[32m2.8/2.8 MB\u001b[0m \u001b[31m16.2 MB/s\u001b[0m eta \u001b[36m0:00:00\u001b[0m31m12.4 MB/s\u001b[0m eta \u001b[36m0:00:01\u001b[0m\n",
      "\u001b[?25hCollecting pillow>=8\n",
      "  Downloading pillow-11.1.0-cp310-cp310-macosx_11_0_arm64.whl (3.1 MB)\n",
      "\u001b[2K     \u001b[38;2;114;156;31m━━━━━━━━━━━━━━━━━━━━━━━━━━━━━━━━━━━━━━━━\u001b[0m \u001b[32m3.1/3.1 MB\u001b[0m \u001b[31m27.6 MB/s\u001b[0m eta \u001b[36m0:00:00\u001b[0m31m32.5 MB/s\u001b[0m eta \u001b[36m0:00:01\u001b[0m\n",
      "\u001b[?25hCollecting cycler>=0.10\n",
      "  Downloading cycler-0.12.1-py3-none-any.whl (8.3 kB)\n",
      "Collecting kiwisolver>=1.3.1\n",
      "  Downloading kiwisolver-1.4.8-cp310-cp310-macosx_11_0_arm64.whl (65 kB)\n",
      "\u001b[2K     \u001b[38;2;114;156;31m━━━━━━━━━━━━━━━━━━━━━━━━━━━━━━━━━━━━━━━━\u001b[0m \u001b[32m65.4/65.4 kB\u001b[0m \u001b[31m8.9 MB/s\u001b[0m eta \u001b[36m0:00:00\u001b[0m\n",
      "\u001b[?25hCollecting contourpy>=1.0.1\n",
      "  Downloading contourpy-1.3.1-cp310-cp310-macosx_11_0_arm64.whl (253 kB)\n",
      "\u001b[2K     \u001b[38;2;114;156;31m━━━━━━━━━━━━━━━━━━━━━━━━━━━━━━━━━━━━━━\u001b[0m \u001b[32m253.3/253.3 kB\u001b[0m \u001b[31m16.3 MB/s\u001b[0m eta \u001b[36m0:00:00\u001b[0m\n",
      "\u001b[?25hRequirement already satisfied: xxhash<4.0.0,>=3.5.0 in /Users/r00360/Dev/openai/llm-langraph/.venv/lib/python3.10/site-packages (from langgraph) (3.5.0)\n",
      "Requirement already satisfied: langgraph-sdk<0.2.0,>=0.1.42 in /Users/r00360/Dev/openai/llm-langraph/.venv/lib/python3.10/site-packages (from langgraph) (0.1.61)\n",
      "Requirement already satisfied: langgraph-prebuilt<0.2,>=0.1.1 in /Users/r00360/Dev/openai/llm-langraph/.venv/lib/python3.10/site-packages (from langgraph) (0.1.8)\n",
      "Requirement already satisfied: langgraph-checkpoint<3.0.0,>=2.0.10 in /Users/r00360/Dev/openai/llm-langraph/.venv/lib/python3.10/site-packages (from langgraph) (2.0.24)\n",
      "Requirement already satisfied: tenacity!=8.4.0,<10.0.0,>=8.1.0 in /Users/r00360/Dev/openai/llm-langraph/.venv/lib/python3.10/site-packages (from langchain_core) (9.1.2)\n",
      "Requirement already satisfied: typing-extensions>=4.7 in /Users/r00360/Dev/openai/llm-langraph/.venv/lib/python3.10/site-packages (from langchain_core) (4.13.1)\n",
      "Requirement already satisfied: jsonpatch<2.0,>=1.33 in /Users/r00360/Dev/openai/llm-langraph/.venv/lib/python3.10/site-packages (from langchain_core) (1.33)\n",
      "Requirement already satisfied: click>=8.1.8 in /Users/r00360/Dev/openai/llm-langraph/.venv/lib/python3.10/site-packages (from duckduckgo-search) (8.1.8)\n",
      "Requirement already satisfied: primp>=0.14.0 in /Users/r00360/Dev/openai/llm-langraph/.venv/lib/python3.10/site-packages (from duckduckgo-search) (0.14.0)\n",
      "Requirement already satisfied: lxml>=5.3.0 in /Users/r00360/Dev/openai/llm-langraph/.venv/lib/python3.10/site-packages (from duckduckgo-search) (5.3.1)\n",
      "Requirement already satisfied: httpx-sse<1.0.0,>=0.4.0 in /Users/r00360/Dev/openai/llm-langraph/.venv/lib/python3.10/site-packages (from langchain-community) (0.4.0)\n",
      "Requirement already satisfied: aiohttp<4.0.0,>=3.8.3 in /Users/r00360/Dev/openai/llm-langraph/.venv/lib/python3.10/site-packages (from langchain-community) (3.11.16)\n",
      "Requirement already satisfied: pydantic-settings<3.0.0,>=2.4.0 in /Users/r00360/Dev/openai/llm-langraph/.venv/lib/python3.10/site-packages (from langchain-community) (2.8.1)\n",
      "Requirement already satisfied: dataclasses-json<0.7,>=0.5.7 in /Users/r00360/Dev/openai/llm-langraph/.venv/lib/python3.10/site-packages (from langchain-community) (0.6.7)\n",
      "Collecting mmh3>=4.0.1\n",
      "  Downloading mmh3-5.1.0-cp310-cp310-macosx_11_0_arm64.whl (40 kB)\n",
      "\u001b[2K     \u001b[38;2;114;156;31m━━━━━━━━━━━━━━━━━━━━━━━━━━━━━━━━━━━━━━━━\u001b[0m \u001b[32m40.1/40.1 kB\u001b[0m \u001b[31m5.2 MB/s\u001b[0m eta \u001b[36m0:00:00\u001b[0m\n",
      "\u001b[?25hCollecting importlib-resources\n",
      "  Downloading importlib_resources-6.5.2-py3-none-any.whl (37 kB)\n",
      "Collecting opentelemetry-instrumentation-fastapi>=0.41b0\n",
      "  Downloading opentelemetry_instrumentation_fastapi-0.52b1-py3-none-any.whl (12 kB)\n",
      "Collecting onnxruntime>=1.14.1\n",
      "  Downloading onnxruntime-1.21.0-cp310-cp310-macosx_13_0_universal2.whl (33.6 MB)\n",
      "\u001b[2K     \u001b[38;2;114;156;31m━━━━━━━━━━━━━━━━━━━━━━━━━━━━━━━━━━━━━━━━\u001b[0m \u001b[32m33.6/33.6 MB\u001b[0m \u001b[31m16.5 MB/s\u001b[0m eta \u001b[36m0:00:00\u001b[0mm eta \u001b[36m0:00:01\u001b[0m[36m0:00:01\u001b[0m\n",
      "\u001b[?25hCollecting chroma-hnswlib==0.7.6\n",
      "  Downloading chroma_hnswlib-0.7.6-cp310-cp310-macosx_11_0_arm64.whl (183 kB)\n",
      "\u001b[2K     \u001b[38;2;114;156;31m━━━━━━━━━━━━━━━━━━━━━━━━━━━━━━━━━━━━━━\u001b[0m \u001b[32m183.9/183.9 kB\u001b[0m \u001b[31m16.5 MB/s\u001b[0m eta \u001b[36m0:00:00\u001b[0m\n",
      "\u001b[?25hCollecting grpcio>=1.58.0\n",
      "  Downloading grpcio-1.71.0-cp310-cp310-macosx_12_0_universal2.whl (11.3 MB)\n",
      "\u001b[2K     \u001b[38;2;114;156;31m━━━━━━━━━━━━━━━━━━━━━━━━━━━━━━━━━━━━━━━━\u001b[0m \u001b[32m11.3/11.3 MB\u001b[0m \u001b[31m18.2 MB/s\u001b[0m eta \u001b[36m0:00:00\u001b[0m31m19.0 MB/s\u001b[0m eta \u001b[36m0:00:01\u001b[0m\n",
      "\u001b[?25hCollecting opentelemetry-exporter-otlp-proto-grpc>=1.2.0\n",
      "  Downloading opentelemetry_exporter_otlp_proto_grpc-1.31.1-py3-none-any.whl (18 kB)\n",
      "Collecting build>=1.0.3\n",
      "  Downloading build-1.2.2.post1-py3-none-any.whl (22 kB)\n",
      "Collecting bcrypt>=4.0.1\n",
      "  Downloading bcrypt-4.3.0-cp39-abi3-macosx_10_12_universal2.whl (498 kB)\n",
      "\u001b[2K     \u001b[38;2;114;156;31m━━━━━━━━━━━━━━━━━━━━━━━━━━━━━━━━━━━━━━\u001b[0m \u001b[32m499.0/499.0 kB\u001b[0m \u001b[31m18.5 MB/s\u001b[0m eta \u001b[36m0:00:00\u001b[0m\n",
      "\u001b[?25hCollecting tokenizers>=0.13.2\n",
      "  Downloading tokenizers-0.21.1-cp39-abi3-macosx_11_0_arm64.whl (2.7 MB)\n",
      "\u001b[2K     \u001b[38;2;114;156;31m━━━━━━━━━━━━━━━━━━━━━━━━━━━━━━━━━━━━━━━━\u001b[0m \u001b[32m2.7/2.7 MB\u001b[0m \u001b[31m8.6 MB/s\u001b[0m eta \u001b[36m0:00:00\u001b[0mm eta \u001b[36m0:00:01\u001b[0m[36m0:00:01\u001b[0mm\n",
      "\u001b[?25hCollecting opentelemetry-sdk>=1.2.0\n",
      "  Downloading opentelemetry_sdk-1.31.1-py3-none-any.whl (118 kB)\n",
      "\u001b[2K     \u001b[38;2;114;156;31m━━━━━━━━━━━━━━━━━━━━━━━━━━━━━━━━━━━━━━\u001b[0m \u001b[32m118.9/118.9 kB\u001b[0m \u001b[31m13.6 MB/s\u001b[0m eta \u001b[36m0:00:00\u001b[0m\n",
      "\u001b[?25hRequirement already satisfied: tqdm>=4.65.0 in /Users/r00360/Dev/openai/llm-langraph/.venv/lib/python3.10/site-packages (from chromadb) (4.67.1)\n",
      "Collecting posthog>=2.4.0\n",
      "  Downloading posthog-3.23.0-py2.py3-none-any.whl (84 kB)\n",
      "\u001b[2K     \u001b[38;2;114;156;31m━━━━━━━━━━━━━━━━━━━━━━━━━━━━━━━━━━━━━━━━\u001b[0m \u001b[32m85.0/85.0 kB\u001b[0m \u001b[31m15.3 MB/s\u001b[0m eta \u001b[36m0:00:00\u001b[0m\n",
      "\u001b[?25hRequirement already satisfied: overrides>=7.3.1 in /Users/r00360/Dev/openai/llm-langraph/.venv/lib/python3.10/site-packages (from chromadb) (7.7.0)\n",
      "Collecting rich>=10.11.0\n",
      "  Downloading rich-14.0.0-py3-none-any.whl (243 kB)\n",
      "\u001b[2K     \u001b[38;2;114;156;31m━━━━━━━━━━━━━━━━━━━━━━━━━━━━━━━━━━━━━━\u001b[0m \u001b[32m243.2/243.2 kB\u001b[0m \u001b[31m20.5 MB/s\u001b[0m eta \u001b[36m0:00:00\u001b[0m\n",
      "\u001b[?25hCollecting uvicorn[standard]>=0.18.3\n",
      "  Downloading uvicorn-0.34.0-py3-none-any.whl (62 kB)\n",
      "\u001b[2K     \u001b[38;2;114;156;31m━━━━━━━━━━━━━━━━━━━━━━━━━━━━━━━━━━━━━━━━\u001b[0m \u001b[32m62.3/62.3 kB\u001b[0m \u001b[31m7.8 MB/s\u001b[0m eta \u001b[36m0:00:00\u001b[0m\n",
      "\u001b[?25hCollecting pypika>=0.48.9\n",
      "  Using cached pypika-0.48.9-py2.py3-none-any.whl\n",
      "Collecting typer>=0.9.0\n",
      "  Downloading typer-0.15.2-py3-none-any.whl (45 kB)\n",
      "\u001b[2K     \u001b[38;2;114;156;31m━━━━━━━━━━━━━━━━━━━━━━━━━━━━━━━━━━━━━━━━\u001b[0m \u001b[32m45.1/45.1 kB\u001b[0m \u001b[31m5.2 MB/s\u001b[0m eta \u001b[36m0:00:00\u001b[0m\n",
      "\u001b[?25hCollecting kubernetes>=28.1.0\n",
      "  Downloading kubernetes-32.0.1-py2.py3-none-any.whl (2.0 MB)\n",
      "\u001b[2K     \u001b[38;2;114;156;31m━━━━━━━━━━━━━━━━━━━━━━━━━━━━━━━━━━━━━━━━\u001b[0m \u001b[32m2.0/2.0 MB\u001b[0m \u001b[31m27.0 MB/s\u001b[0m eta \u001b[36m0:00:00\u001b[0mm eta \u001b[36m0:00:01\u001b[0m0:01\u001b[0m\n",
      "\u001b[?25hRequirement already satisfied: jsonschema>=4.19.0 in /Users/r00360/Dev/openai/llm-langraph/.venv/lib/python3.10/site-packages (from chromadb) (4.23.0)\n",
      "Collecting fastapi==0.115.9\n",
      "  Downloading fastapi-0.115.9-py3-none-any.whl (94 kB)\n",
      "\u001b[2K     \u001b[38;2;114;156;31m━━━━━━━━━━━━━━━━━━━━━━━━━━━━━━━━━━━━━━━━\u001b[0m \u001b[32m94.9/94.9 kB\u001b[0m \u001b[31m9.2 MB/s\u001b[0m eta \u001b[36m0:00:00\u001b[0m\n",
      "\u001b[?25hCollecting opentelemetry-api>=1.2.0\n",
      "  Downloading opentelemetry_api-1.31.1-py3-none-any.whl (65 kB)\n",
      "\u001b[2K     \u001b[38;2;114;156;31m━━━━━━━━━━━━━━━━━━━━━━━━━━━━━━━━━━━━━━━━\u001b[0m \u001b[32m65.2/65.2 kB\u001b[0m \u001b[31m10.2 MB/s\u001b[0m eta \u001b[36m0:00:00\u001b[0m\n",
      "\u001b[?25hCollecting starlette<0.46.0,>=0.40.0\n",
      "  Downloading starlette-0.45.3-py3-none-any.whl (71 kB)\n",
      "\u001b[2K     \u001b[38;2;114;156;31m━━━━━━━━━━━━━━━━━━━━━━━━━━━━━━━━━━━━━━━━\u001b[0m \u001b[32m71.5/71.5 kB\u001b[0m \u001b[31m7.9 MB/s\u001b[0m eta \u001b[36m0:00:00\u001b[0m\n",
      "\u001b[?25hRequirement already satisfied: aiohappyeyeballs>=2.3.0 in /Users/r00360/Dev/openai/llm-langraph/.venv/lib/python3.10/site-packages (from aiohttp<4.0.0,>=3.8.3->langchain-community) (2.6.1)\n",
      "Requirement already satisfied: aiosignal>=1.1.2 in /Users/r00360/Dev/openai/llm-langraph/.venv/lib/python3.10/site-packages (from aiohttp<4.0.0,>=3.8.3->langchain-community) (1.3.2)\n",
      "Requirement already satisfied: propcache>=0.2.0 in /Users/r00360/Dev/openai/llm-langraph/.venv/lib/python3.10/site-packages (from aiohttp<4.0.0,>=3.8.3->langchain-community) (0.3.1)\n",
      "Requirement already satisfied: yarl<2.0,>=1.17.0 in /Users/r00360/Dev/openai/llm-langraph/.venv/lib/python3.10/site-packages (from aiohttp<4.0.0,>=3.8.3->langchain-community) (1.18.3)\n",
      "Requirement already satisfied: attrs>=17.3.0 in /Users/r00360/Dev/openai/llm-langraph/.venv/lib/python3.10/site-packages (from aiohttp<4.0.0,>=3.8.3->langchain-community) (25.3.0)\n",
      "Requirement already satisfied: frozenlist>=1.1.1 in /Users/r00360/Dev/openai/llm-langraph/.venv/lib/python3.10/site-packages (from aiohttp<4.0.0,>=3.8.3->langchain-community) (1.5.0)\n",
      "Requirement already satisfied: multidict<7.0,>=4.5 in /Users/r00360/Dev/openai/llm-langraph/.venv/lib/python3.10/site-packages (from aiohttp<4.0.0,>=3.8.3->langchain-community) (6.3.2)\n",
      "Requirement already satisfied: tomli>=1.1.0 in /Users/r00360/Dev/openai/llm-langraph/.venv/lib/python3.10/site-packages (from build>=1.0.3->chromadb) (2.2.1)\n",
      "Collecting pyproject_hooks\n",
      "  Downloading pyproject_hooks-1.2.0-py3-none-any.whl (10 kB)\n",
      "Requirement already satisfied: marshmallow<4.0.0,>=3.18.0 in /Users/r00360/Dev/openai/llm-langraph/.venv/lib/python3.10/site-packages (from dataclasses-json<0.7,>=0.5.7->langchain-community) (3.26.1)\n",
      "Requirement already satisfied: typing-inspect<1,>=0.4.0 in /Users/r00360/Dev/openai/llm-langraph/.venv/lib/python3.10/site-packages (from dataclasses-json<0.7,>=0.5.7->langchain-community) (0.9.0)\n",
      "Requirement already satisfied: anyio in /Users/r00360/Dev/openai/llm-langraph/.venv/lib/python3.10/site-packages (from httpx<1,>=0.23.0->langsmith) (4.9.0)\n",
      "Requirement already satisfied: idna in /Users/r00360/Dev/openai/llm-langraph/.venv/lib/python3.10/site-packages (from httpx<1,>=0.23.0->langsmith) (3.10)\n",
      "Requirement already satisfied: httpcore==1.* in /Users/r00360/Dev/openai/llm-langraph/.venv/lib/python3.10/site-packages (from httpx<1,>=0.23.0->langsmith) (1.0.7)\n",
      "Requirement already satisfied: certifi in /Users/r00360/Dev/openai/llm-langraph/.venv/lib/python3.10/site-packages (from httpx<1,>=0.23.0->langsmith) (2025.1.31)\n",
      "Requirement already satisfied: h11<0.15,>=0.13 in /Users/r00360/Dev/openai/llm-langraph/.venv/lib/python3.10/site-packages (from httpcore==1.*->httpx<1,>=0.23.0->langsmith) (0.14.0)\n",
      "Requirement already satisfied: jsonpointer>=1.9 in /Users/r00360/Dev/openai/llm-langraph/.venv/lib/python3.10/site-packages (from jsonpatch<2.0,>=1.33->langchain_core) (3.0.0)\n",
      "Requirement already satisfied: referencing>=0.28.4 in /Users/r00360/Dev/openai/llm-langraph/.venv/lib/python3.10/site-packages (from jsonschema>=4.19.0->chromadb) (0.36.2)\n",
      "Requirement already satisfied: jsonschema-specifications>=2023.03.6 in /Users/r00360/Dev/openai/llm-langraph/.venv/lib/python3.10/site-packages (from jsonschema>=4.19.0->chromadb) (2024.10.1)\n",
      "Requirement already satisfied: rpds-py>=0.7.1 in /Users/r00360/Dev/openai/llm-langraph/.venv/lib/python3.10/site-packages (from jsonschema>=4.19.0->chromadb) (0.24.0)\n",
      "Requirement already satisfied: urllib3>=1.24.2 in /Users/r00360/Dev/openai/llm-langraph/.venv/lib/python3.10/site-packages (from kubernetes>=28.1.0->chromadb) (2.3.0)\n",
      "Requirement already satisfied: six>=1.9.0 in /Users/r00360/Dev/openai/llm-langraph/.venv/lib/python3.10/site-packages (from kubernetes>=28.1.0->chromadb) (1.17.0)\n",
      "Collecting google-auth>=1.0.1\n",
      "  Downloading google_auth-2.38.0-py2.py3-none-any.whl (210 kB)\n",
      "\u001b[2K     \u001b[38;2;114;156;31m━━━━━━━━━━━━━━━━━━━━━━━━━━━━━━━━━━━━━━\u001b[0m \u001b[32m210.8/210.8 kB\u001b[0m \u001b[31m22.1 MB/s\u001b[0m eta \u001b[36m0:00:00\u001b[0m\n",
      "\u001b[?25hCollecting oauthlib>=3.2.2\n",
      "  Downloading oauthlib-3.2.2-py3-none-any.whl (151 kB)\n",
      "\u001b[2K     \u001b[38;2;114;156;31m━━━━━━━━━━━━━━━━━━━━━━━━━━━━━━━━━━━━━━\u001b[0m \u001b[32m151.7/151.7 kB\u001b[0m \u001b[31m21.4 MB/s\u001b[0m eta \u001b[36m0:00:00\u001b[0m\n",
      "\u001b[?25hRequirement already satisfied: websocket-client!=0.40.0,!=0.41.*,!=0.42.*,>=0.32.0 in /Users/r00360/Dev/openai/llm-langraph/.venv/lib/python3.10/site-packages (from kubernetes>=28.1.0->chromadb) (1.8.0)\n",
      "Collecting durationpy>=0.7\n",
      "  Downloading durationpy-0.9-py3-none-any.whl (3.5 kB)\n",
      "Collecting requests-oauthlib\n",
      "  Downloading requests_oauthlib-2.0.0-py2.py3-none-any.whl (24 kB)\n",
      "Requirement already satisfied: ormsgpack<2.0.0,>=1.8.0 in /Users/r00360/Dev/openai/llm-langraph/.venv/lib/python3.10/site-packages (from langgraph-checkpoint<3.0.0,>=2.0.10->langgraph) (1.9.1)\n",
      "Collecting flatbuffers\n",
      "  Downloading flatbuffers-25.2.10-py2.py3-none-any.whl (30 kB)\n",
      "Collecting sympy\n",
      "  Downloading sympy-1.13.3-py3-none-any.whl (6.2 MB)\n",
      "\u001b[2K     \u001b[38;2;114;156;31m━━━━━━━━━━━━━━━━━━━━━━━━━━━━━━━━━━━━━━━━\u001b[0m \u001b[32m6.2/6.2 MB\u001b[0m \u001b[31m17.3 MB/s\u001b[0m eta \u001b[36m0:00:00\u001b[0m MB/s\u001b[0m eta \u001b[36m0:00:01\u001b[0m:01\u001b[0m\n",
      "\u001b[?25hCollecting coloredlogs\n",
      "  Downloading coloredlogs-15.0.1-py2.py3-none-any.whl (46 kB)\n",
      "\u001b[2K     \u001b[38;2;114;156;31m━━━━━━━━━━━━━━━━━━━━━━━━━━━━━━━━━━━━━━━━\u001b[0m \u001b[32m46.0/46.0 kB\u001b[0m \u001b[31m5.7 MB/s\u001b[0m eta \u001b[36m0:00:00\u001b[0m\n",
      "\u001b[?25hCollecting protobuf\n",
      "  Downloading protobuf-6.30.2-cp39-abi3-macosx_10_9_universal2.whl (417 kB)\n",
      "\u001b[2K     \u001b[38;2;114;156;31m━━━━━━━━━━━━━━━━━━━━━━━━━━━━━━━━━━━━━━━\u001b[0m \u001b[32m417.6/417.6 kB\u001b[0m \u001b[31m3.9 MB/s\u001b[0m eta \u001b[36m0:00:00\u001b[0m MB/s\u001b[0m eta \u001b[36m0:00:01\u001b[0m\n",
      "\u001b[?25hRequirement already satisfied: distro<2,>=1.7.0 in /Users/r00360/Dev/openai/llm-langraph/.venv/lib/python3.10/site-packages (from openai<2.0.0,>=1.68.2->langchain_openai) (1.9.0)\n",
      "Requirement already satisfied: jiter<1,>=0.4.0 in /Users/r00360/Dev/openai/llm-langraph/.venv/lib/python3.10/site-packages (from openai<2.0.0,>=1.68.2->langchain_openai) (0.9.0)\n",
      "Requirement already satisfied: sniffio in /Users/r00360/Dev/openai/llm-langraph/.venv/lib/python3.10/site-packages (from openai<2.0.0,>=1.68.2->langchain_openai) (1.3.1)\n",
      "Collecting deprecated>=1.2.6\n",
      "  Downloading Deprecated-1.2.18-py2.py3-none-any.whl (10.0 kB)\n",
      "Collecting importlib-metadata<8.7.0,>=6.0\n",
      "  Downloading importlib_metadata-8.6.1-py3-none-any.whl (26 kB)\n",
      "Collecting googleapis-common-protos~=1.52\n",
      "  Downloading googleapis_common_protos-1.69.2-py3-none-any.whl (293 kB)\n",
      "\u001b[2K     \u001b[38;2;114;156;31m━━━━━━━━━━━━━━━━━━━━━━━━━━━━━━━━━━━━━━\u001b[0m \u001b[32m293.2/293.2 kB\u001b[0m \u001b[31m18.2 MB/s\u001b[0m eta \u001b[36m0:00:00\u001b[0m\n",
      "\u001b[?25hCollecting opentelemetry-exporter-otlp-proto-common==1.31.1\n",
      "  Downloading opentelemetry_exporter_otlp_proto_common-1.31.1-py3-none-any.whl (18 kB)\n",
      "Collecting opentelemetry-proto==1.31.1\n",
      "  Downloading opentelemetry_proto-1.31.1-py3-none-any.whl (55 kB)\n",
      "\u001b[2K     \u001b[38;2;114;156;31m━━━━━━━━━━━━━━━━━━━━━━━━━━━━━━━━━━━━━━━━\u001b[0m \u001b[32m55.9/55.9 kB\u001b[0m \u001b[31m8.6 MB/s\u001b[0m eta \u001b[36m0:00:00\u001b[0m\n",
      "\u001b[?25hCollecting protobuf\n",
      "  Downloading protobuf-5.29.4-cp38-abi3-macosx_10_9_universal2.whl (417 kB)\n",
      "\u001b[2K     \u001b[38;2;114;156;31m━━━━━━━━━━━━━━━━━━━━━━━━━━━━━━━━━━━━━━\u001b[0m \u001b[32m417.8/417.8 kB\u001b[0m \u001b[31m17.2 MB/s\u001b[0m eta \u001b[36m0:00:00\u001b[0m\n",
      "\u001b[?25hCollecting opentelemetry-instrumentation==0.52b1\n",
      "  Downloading opentelemetry_instrumentation-0.52b1-py3-none-any.whl (31 kB)\n",
      "Collecting opentelemetry-instrumentation-asgi==0.52b1\n",
      "  Downloading opentelemetry_instrumentation_asgi-0.52b1-py3-none-any.whl (16 kB)\n",
      "Collecting opentelemetry-util-http==0.52b1\n",
      "  Downloading opentelemetry_util_http-0.52b1-py3-none-any.whl (7.3 kB)\n",
      "Collecting opentelemetry-semantic-conventions==0.52b1\n",
      "  Downloading opentelemetry_semantic_conventions-0.52b1-py3-none-any.whl (183 kB)\n",
      "\u001b[2K     \u001b[38;2;114;156;31m━━━━━━━━━━━━━━━━━━━━━━━━━━━━━━━━━━━━━━\u001b[0m \u001b[32m183.4/183.4 kB\u001b[0m \u001b[31m13.9 MB/s\u001b[0m eta \u001b[36m0:00:00\u001b[0m\n",
      "\u001b[?25hCollecting wrapt<2.0.0,>=1.0.0\n",
      "  Downloading wrapt-1.17.2-cp310-cp310-macosx_11_0_arm64.whl (38 kB)\n",
      "Collecting asgiref~=3.0\n",
      "  Downloading asgiref-3.8.1-py3-none-any.whl (23 kB)\n",
      "Collecting backoff>=1.10.0\n",
      "  Downloading backoff-2.2.1-py3-none-any.whl (15 kB)\n",
      "Collecting monotonic>=1.5\n",
      "  Downloading monotonic-1.6-py2.py3-none-any.whl (8.2 kB)\n",
      "Requirement already satisfied: pydantic-core==2.33.1 in /Users/r00360/Dev/openai/llm-langraph/.venv/lib/python3.10/site-packages (from pydantic<3.0.0,>=2.7.4->langchain) (2.33.1)\n",
      "Requirement already satisfied: annotated-types>=0.6.0 in /Users/r00360/Dev/openai/llm-langraph/.venv/lib/python3.10/site-packages (from pydantic<3.0.0,>=2.7.4->langchain) (0.7.0)\n",
      "Requirement already satisfied: typing-inspection>=0.4.0 in /Users/r00360/Dev/openai/llm-langraph/.venv/lib/python3.10/site-packages (from pydantic<3.0.0,>=2.7.4->langchain) (0.4.0)\n",
      "Requirement already satisfied: python-dotenv>=0.21.0 in /Users/r00360/Dev/openai/llm-langraph/.venv/lib/python3.10/site-packages (from pydantic-settings<3.0.0,>=2.4.0->langchain-community) (1.1.0)\n",
      "Requirement already satisfied: charset-normalizer<4,>=2 in /Users/r00360/Dev/openai/llm-langraph/.venv/lib/python3.10/site-packages (from requests<3,>=2->langchain) (3.4.1)\n",
      "Collecting markdown-it-py>=2.2.0\n",
      "  Downloading markdown_it_py-3.0.0-py3-none-any.whl (87 kB)\n",
      "\u001b[2K     \u001b[38;2;114;156;31m━━━━━━━━━━━━━━━━━━━━━━━━━━━━━━━━━━━━━━━━\u001b[0m \u001b[32m87.5/87.5 kB\u001b[0m \u001b[31m8.6 MB/s\u001b[0m eta \u001b[36m0:00:00\u001b[0m\n",
      "\u001b[?25hRequirement already satisfied: pygments<3.0.0,>=2.13.0 in /Users/r00360/Dev/openai/llm-langraph/.venv/lib/python3.10/site-packages (from rich>=10.11.0->chromadb) (2.19.1)\n",
      "Requirement already satisfied: regex>=2022.1.18 in /Users/r00360/Dev/openai/llm-langraph/.venv/lib/python3.10/site-packages (from tiktoken<1,>=0.7->langchain_openai) (2024.11.6)\n",
      "Collecting huggingface-hub<1.0,>=0.16.4\n",
      "  Downloading huggingface_hub-0.30.2-py3-none-any.whl (481 kB)\n",
      "\u001b[2K     \u001b[38;2;114;156;31m━━━━━━━━━━━━━━━━━━━━━━━━━━━━━━━━━━━━━━\u001b[0m \u001b[32m481.4/481.4 kB\u001b[0m \u001b[31m17.6 MB/s\u001b[0m eta \u001b[36m0:00:00\u001b[0m\n",
      "\u001b[?25hCollecting shellingham>=1.3.0\n",
      "  Downloading shellingham-1.5.4-py2.py3-none-any.whl (9.8 kB)\n",
      "Collecting uvloop!=0.15.0,!=0.15.1,>=0.14.0\n",
      "  Downloading uvloop-0.21.0-cp310-cp310-macosx_10_9_universal2.whl (1.4 MB)\n",
      "\u001b[2K     \u001b[38;2;114;156;31m━━━━━━━━━━━━━━━━━━━━━━━━━━━━━━━━━━━━━━━━\u001b[0m \u001b[32m1.4/1.4 MB\u001b[0m \u001b[31m8.8 MB/s\u001b[0m eta \u001b[36m0:00:00\u001b[0m[31m8.1 MB/s\u001b[0m eta \u001b[36m0:00:01\u001b[0m\n",
      "\u001b[?25hCollecting watchfiles>=0.13\n",
      "  Downloading watchfiles-1.0.5-cp310-cp310-macosx_11_0_arm64.whl (395 kB)\n",
      "\u001b[2K     \u001b[38;2;114;156;31m━━━━━━━━━━━━━━━━━━━━━━━━━━━━━━━━━━━━━━\u001b[0m \u001b[32m395.7/395.7 kB\u001b[0m \u001b[31m20.1 MB/s\u001b[0m eta \u001b[36m0:00:00\u001b[0m\n",
      "\u001b[?25hCollecting websockets>=10.4\n",
      "  Downloading websockets-15.0.1-cp310-cp310-macosx_11_0_arm64.whl (173 kB)\n",
      "\u001b[2K     \u001b[38;2;114;156;31m━━━━━━━━━━━━━━━━━━━━━━━━━━━━━━━━━━━━━━\u001b[0m \u001b[32m173.3/173.3 kB\u001b[0m \u001b[31m16.0 MB/s\u001b[0m eta \u001b[36m0:00:00\u001b[0m\n",
      "\u001b[?25hCollecting httptools>=0.6.3\n",
      "  Downloading httptools-0.6.4-cp310-cp310-macosx_11_0_arm64.whl (103 kB)\n",
      "\u001b[2K     \u001b[38;2;114;156;31m━━━━━━━━━━━━━━━━━━━━━━━━━━━━━━━━━━━━━━━\u001b[0m \u001b[32m103.3/103.3 kB\u001b[0m \u001b[31m7.7 MB/s\u001b[0m eta \u001b[36m0:00:00\u001b[0m\n",
      "\u001b[?25hRequirement already satisfied: exceptiongroup>=1.0.2 in /Users/r00360/Dev/openai/llm-langraph/.venv/lib/python3.10/site-packages (from anyio->httpx<1,>=0.23.0->langsmith) (1.2.2)\n",
      "Collecting rsa<5,>=3.1.4\n",
      "  Downloading rsa-4.9-py3-none-any.whl (34 kB)\n",
      "Collecting cachetools<6.0,>=2.0.0\n",
      "  Downloading cachetools-5.5.2-py3-none-any.whl (10 kB)\n",
      "Collecting pyasn1-modules>=0.2.1\n",
      "  Downloading pyasn1_modules-0.4.2-py3-none-any.whl (181 kB)\n",
      "\u001b[2K     \u001b[38;2;114;156;31m━━━━━━━━━━━━━━━━━━━━━━━━━━━━━━━━━━━━━━\u001b[0m \u001b[32m181.3/181.3 kB\u001b[0m \u001b[31m11.3 MB/s\u001b[0m eta \u001b[36m0:00:00\u001b[0m\n",
      "\u001b[?25hCollecting fsspec>=2023.5.0\n",
      "  Downloading fsspec-2025.3.2-py3-none-any.whl (194 kB)\n",
      "\u001b[2K     \u001b[38;2;114;156;31m━━━━━━━━━━━━━━━━━━━━━━━━━━━━━━━━━━━━━━\u001b[0m \u001b[32m194.4/194.4 kB\u001b[0m \u001b[31m16.4 MB/s\u001b[0m eta \u001b[36m0:00:00\u001b[0m\n",
      "\u001b[?25hCollecting filelock\n",
      "  Downloading filelock-3.18.0-py3-none-any.whl (16 kB)\n",
      "Collecting zipp>=3.20\n",
      "  Downloading zipp-3.21.0-py3-none-any.whl (9.6 kB)\n",
      "Collecting mdurl~=0.1\n",
      "  Downloading mdurl-0.1.2-py3-none-any.whl (10.0 kB)\n",
      "Requirement already satisfied: mypy-extensions>=0.3.0 in /Users/r00360/Dev/openai/llm-langraph/.venv/lib/python3.10/site-packages (from typing-inspect<1,>=0.4.0->dataclasses-json<0.7,>=0.5.7->langchain-community) (1.0.0)\n",
      "Collecting humanfriendly>=9.1\n",
      "  Downloading humanfriendly-10.0-py2.py3-none-any.whl (86 kB)\n",
      "\u001b[2K     \u001b[38;2;114;156;31m━━━━━━━━━━━━━━━━━━━━━━━━━━━━━━━━━━━━━━━━\u001b[0m \u001b[32m86.8/86.8 kB\u001b[0m \u001b[31m8.4 MB/s\u001b[0m eta \u001b[36m0:00:00\u001b[0m\n",
      "\u001b[?25hCollecting mpmath<1.4,>=1.1.0\n",
      "  Downloading mpmath-1.3.0-py3-none-any.whl (536 kB)\n",
      "\u001b[2K     \u001b[38;2;114;156;31m━━━━━━━━━━━━━━━━━━━━━━━━━━━━━━━━━━━━━━\u001b[0m \u001b[32m536.2/536.2 kB\u001b[0m \u001b[31m18.2 MB/s\u001b[0m eta \u001b[36m0:00:00\u001b[0m\n",
      "\u001b[?25hCollecting pyasn1<0.7.0,>=0.6.1\n",
      "  Downloading pyasn1-0.6.1-py3-none-any.whl (83 kB)\n",
      "\u001b[2K     \u001b[38;2;114;156;31m━━━━━━━━━━━━━━━━━━━━━━━━━━━━━━━━━━━━━━━━\u001b[0m \u001b[32m83.1/83.1 kB\u001b[0m \u001b[31m11.3 MB/s\u001b[0m eta \u001b[36m0:00:00\u001b[0m\n",
      "\u001b[?25hInstalling collected packages: pytz, pypika, mpmath, monotonic, flatbuffers, durationpy, zipp, wrapt, websockets, uvloop, uvicorn, tzdata, sympy, shellingham, pyproject_hooks, pyparsing, pyasn1, protobuf, pillow, opentelemetry-util-http, oauthlib, mmh3, mdurl, kiwisolver, importlib-resources, humanfriendly, httptools, grpcio, fsspec, fonttools, filelock, cycler, contourpy, chroma-hnswlib, cachetools, bcrypt, backoff, asgiref, watchfiles, starlette, rsa, requests-oauthlib, pyasn1-modules, posthog, pandas, opentelemetry-proto, matplotlib, markdown-it-py, importlib-metadata, huggingface-hub, googleapis-common-protos, deprecated, coloredlogs, build, tokenizers, rich, opentelemetry-exporter-otlp-proto-common, opentelemetry-api, onnxruntime, google-auth, fastapi, typer, opentelemetry-semantic-conventions, kubernetes, opentelemetry-sdk, opentelemetry-instrumentation, opentelemetry-instrumentation-asgi, opentelemetry-exporter-otlp-proto-grpc, opentelemetry-instrumentation-fastapi, langchain_experimental, chromadb\n",
      "Successfully installed asgiref-3.8.1 backoff-2.2.1 bcrypt-4.3.0 build-1.2.2.post1 cachetools-5.5.2 chroma-hnswlib-0.7.6 chromadb-1.0.3 coloredlogs-15.0.1 contourpy-1.3.1 cycler-0.12.1 deprecated-1.2.18 durationpy-0.9 fastapi-0.115.9 filelock-3.18.0 flatbuffers-25.2.10 fonttools-4.57.0 fsspec-2025.3.2 google-auth-2.38.0 googleapis-common-protos-1.69.2 grpcio-1.71.0 httptools-0.6.4 huggingface-hub-0.30.2 humanfriendly-10.0 importlib-metadata-8.6.1 importlib-resources-6.5.2 kiwisolver-1.4.8 kubernetes-32.0.1 langchain_experimental-0.3.4 markdown-it-py-3.0.0 matplotlib-3.10.1 mdurl-0.1.2 mmh3-5.1.0 monotonic-1.6 mpmath-1.3.0 oauthlib-3.2.2 onnxruntime-1.21.0 opentelemetry-api-1.31.1 opentelemetry-exporter-otlp-proto-common-1.31.1 opentelemetry-exporter-otlp-proto-grpc-1.31.1 opentelemetry-instrumentation-0.52b1 opentelemetry-instrumentation-asgi-0.52b1 opentelemetry-instrumentation-fastapi-0.52b1 opentelemetry-proto-1.31.1 opentelemetry-sdk-1.31.1 opentelemetry-semantic-conventions-0.52b1 opentelemetry-util-http-0.52b1 pandas-2.2.3 pillow-11.1.0 posthog-3.23.0 protobuf-5.29.4 pyasn1-0.6.1 pyasn1-modules-0.4.2 pyparsing-3.2.3 pypika-0.48.9 pyproject_hooks-1.2.0 pytz-2025.2 requests-oauthlib-2.0.0 rich-14.0.0 rsa-4.9 shellingham-1.5.4 starlette-0.45.3 sympy-1.13.3 tokenizers-0.21.1 typer-0.15.2 tzdata-2025.2 uvicorn-0.34.0 uvloop-0.21.0 watchfiles-1.0.5 websockets-15.0.1 wrapt-1.17.2 zipp-3.21.0\n",
      "\n",
      "\u001b[1m[\u001b[0m\u001b[34;49mnotice\u001b[0m\u001b[1;39;49m]\u001b[0m\u001b[39;49m A new release of pip is available: \u001b[0m\u001b[31;49m23.0.1\u001b[0m\u001b[39;49m -> \u001b[0m\u001b[32;49m25.0.1\u001b[0m\n",
      "\u001b[1m[\u001b[0m\u001b[34;49mnotice\u001b[0m\u001b[1;39;49m]\u001b[0m\u001b[39;49m To update, run: \u001b[0m\u001b[32;49mpip install --upgrade pip\u001b[0m\n",
      "Note: you may need to restart the kernel to use updated packages.\n"
     ]
    }
   ],
   "source": [
    "%pip install langchain langchain_openai langsmith pandas langchain_experimental matplotlib langgraph langchain_core duckduckgo-search langchain-community chromadb"
   ]
  },
  {
   "cell_type": "code",
   "execution_count": null,
   "metadata": {},
   "outputs": [],
   "source": []
  },
  {
   "cell_type": "markdown",
   "metadata": {},
   "source": [
    "## DuckDuckGo Serach\n"
   ]
  },
  {
   "cell_type": "code",
   "execution_count": 4,
   "metadata": {},
   "outputs": [
    {
     "data": {
      "text/plain": [
       "'버락 오바마는 미국 역사상 최초로 흑인 대통령으로서, 미국 사회와 정치에 깊은 영향을 미친 인물입니다. \"Yes, We Can!\"이라는 캠페인 슬로건을 내세우며, 변화와 희망을 약속한 오바마의 임기는 8년간 지속되었고, 많은 이들에게 영감을 주었습니다. 오바마는 제44대 대통령으로서 재임 기간 동안 경제적 보수 성향이 강했던 미국을 진보적인 방향으로 이끌었으며, 사회적 평등과 의료 개혁을 위한 여러 중요한 정책을 추진했습니다. 오바마의 임기 후반, \"Yes! We Did It!\"이라며 고별 연설을 통해 달성한 성과를 자랑스럽게 선언했으며, 오바마가 남긴 유산은 오늘날까지 미국 사회에 큰 영향을 미치고 있습니다. 버락 후세인 오바마(Barack Hussein Obama) 미국 제44대 대통령은 미국 정치와 민주당의 기념비적인 인물입니다. 2008년 당선된 오바마는 희망과 변화의 이상을 구현하면서 최초의 아프리카계 미국인 대통령으로서 역사적 장벽을 허물었습니다. 그의 대통령 임기는 2009년부터 2017년까지 두 차례에 걸쳐 이루어졌으며 중요한 입법 성과, 외교 정책 이니셔티브, 21세기 민주당을 재정의한 카리스마 넘치는 리더십 스타일로 특징지어졌습니다. 1961년 8월 4일 하와이 호놀룰루에서 태어난 오바마의 초기 생애는 다문화 배경과 다양한 경험으로 특징지어졌습니다. 그의 삶과 경력은 다양한 경험과 영향을 통해 형성되었으며, 이는 미국의 복잡하고 다층적인 경험을 반영합니다.초기 생애와 가족 배경오바마의 어린 시절은 그의 다양한 혈통과 가족의 세계적인 경험으로 형성된 풍부한 문화적 배경에 의해 특징지어 ... 이 명언은 오바마의 2008년 대선 캠페인 슬로건이었으며, 국민들에게 자신이 원하는 변화를 스스로 만들어가야 한다는 메시지를 전달합니다. \"역경은 사람의 성격을 만든다.\" 오바마는 어려움 속에서도 희망과 결의를 잃지 않는 중요성을 강조하였습니다. 이는 그가 다양한 도전에 직면했을 때 보여준 강인한 리더십과도 연결됩니다. \"희망이 두려움보다 강하다.\" 이 명언은 불확실한 상황에서도 긍정적인 마음가짐이 중요하다는 그의 신념을 잘 보여줍니다. 오바마는 항상 국민들에게 희망을 잃지 말고 미래를 향해 나아가라고 격려했습니다. \"변화는 쉽지 않지만, 우리는 가능성을 믿어야 한다.\" 버락 오바마는 미국의 제44대 대통령으로서 버락 오바마의 슬로건 \"Yes, We Can!\"으로 전 세계의 이목을 집중시켰다. 2009년부터 2017년까지 대통령직을 수행한 오바마는 역대 미국 대통령 중 최초이자 현재까지 유일한 흑인 대통령으로, 버락 오바마의 재임 기간 동안 많은 변화를 이끌어냈다. 버락 오바마는 고별 연설에서 \"Yes! We did it!\"이라며 임기 동안 이룬 성과를 되새기며 미국 국민과 함께한 여정을 마무리했다. 오바마의 대통령 재임 기간은 미국 현대 정치사에서 중요한 전환점으로 평가된다.'"
      ]
     },
     "execution_count": 4,
     "metadata": {},
     "output_type": "execute_result"
    }
   ],
   "source": [
    "from langchain_community.tools import DuckDuckGoSearchRun\n",
    "\n",
    "search = DuckDuckGoSearchRun()\n",
    "search.invoke(\"오바마의 이름이 뭐야?\")"
   ]
  },
  {
   "cell_type": "markdown",
   "metadata": {},
   "source": [
    "### 상세검색"
   ]
  },
  {
   "cell_type": "code",
   "execution_count": 5,
   "metadata": {},
   "outputs": [
    {
     "data": {
      "text/plain": [
       "\"snippet: 미국 44대 대통령 버락 오바마 보통 오바마라고 하면 이 인물을 뜻한다. 버락 오바마 의 아내 미셸 오, title: 오바마 - 나무위키, link: https://namu.wiki/w/오바마, snippet: 1961년 8월 4일 오후 7시 24분 [1] 카피올라니 병원에서 하와이 마노아 대학교로 유학 온 케냐 출신 유학생 아버지 버락 오바마 시니어 (1934~1982)와 백인 어머니 스탠리 앤 던햄 (1942~1995) [2] 사이에서 태어났다. [3] 부모는 오바마가 2살 때 이혼하여 조부모 밑에서 자랐고, 1966~1967년경에 친모가 인도네시아 ..., title: 버락 오바마/생애 - 나무위키, link: https://namu.wiki/w/버락+오바마/생애, snippet: 버락 오바마 전 대통령 부부 이혼설이 제기됐다. 이번에는 정치권의 유력한 인물에게서 나온 것이고 메이저 언론사가 보도해 관심이 집중되고 있는 상황이다. 시사주간지 Newsweek는 메건 매케인이 자신의 팟캐스트에서 버락 오바마 전 대통령 부부 이혼설을 언급했다고 보도했다. 메건 매케인은 故 존 ..., title: 오바마 이혼?, 언론에서 '이혼설' 공식 언급, link: https://www.radiokorea.com/news/article.php?uid=462975, snippet: 버락 오바마는 미국의 44대 대통령으로, 그의 재임 기간 동안 여러 가지 주요 정책과 성과를 이루었습니다. 이번 글에서는 그의 주요 업적을 다섯 가지 소제목으로 나누어 자세히 살펴보겠습니다.버락 오바마 업적 5가지 1. 오바마케어: 의료 개혁의 상징버락 오바마의 가장 큰 국내 정책 중 하나는 ..., title: 미국의 44대 대통령 버락 오바마의 업적 Best 5가지/세계 위인, link: https://nangman87.tistory.com/entry/미국의-44대-대통령-버락-오바마의-업적-BEST-5가지세계-위인\""
      ]
     },
     "execution_count": 5,
     "metadata": {},
     "output_type": "execute_result"
    }
   ],
   "source": [
    "\n",
    "from langchain_community.tools import DuckDuckGoSearchResults\n",
    "\n",
    "search = DuckDuckGoSearchResults()\n",
    "\n",
    "search.invoke(\"오바마\")\n"
   ]
  },
  {
   "cell_type": "markdown",
   "metadata": {},
   "source": [
    "### 뉴스검색"
   ]
  },
  {
   "cell_type": "code",
   "execution_count": 6,
   "metadata": {},
   "outputs": [
    {
     "data": {
      "text/plain": [
       "'snippet: 도널드 트럼프 미국 대통령은 9일(현지시간) 주한미군 등 해외미군 감축 문제가 방위비 분담금과 연계될 수 있다고 시사하면서 방위비 분담금 문제를 무역 협상과 패키지로 논의하겠다는 취지로 언급했다. 트럼프 대통령은 이날 백악관 집무실에서 진행한 행정명령 서명 행사에서, title: 트럼프, 한국 방위비 분담 거론하며 \"무역 협상서 패키지로\", link: https://www.msn.com/ko-kr/news/world/트럼프-한국-방위비-분담-거론하며-무역-협상서-패키지로/ar-AA1CCVzA, date: 2025-04-09T22:24:06+00:00, source: 세계일보, snippet: [헤럴드경제=신주희 기자] 월가에서 한때 \\'채권왕\\'으로 불린 빌 그로스 핌코(PIMCO) 공동 창업자가 9일(현지시간) \"미국 대통령의 말 한마디로 가격이 달라지는 주식을 왜 보유하나\"라며 일침했다. 뉴욕증의 널 뛰는 변동성에 투자자들에게 관망세를 유지할 것을 조언했다. 그로스는 이날 소셜미디어 X(옛 트위터)에서 \"여러분들에게 묻고 싶다\"라며 \"대통령이, title: 트럼프 한마디에 극락 찍은 美증시…월가 전설 \"이런 주식 왜 보유하나\" 일침 [투자360], link: https://www.msn.com/ko-kr/news/other/트럼프-한마디에-극락-찍은-美증시-월가-전설-이런-주식-왜-보유하나-일침-투자360/ar-AA1CCVU2, date: 2025-04-09T22:45:02+00:00, source: 헤럴드경제, snippet: [앵커] 트럼프 미국 대통령이 상호관세에 보복 대응에 나선 중국은 관세를 더 올리고 나머지 국가는 일시 유예하겠다고 밝혔습니다. 이에 따라 중국은 125% 관세가 적용되고, 한국을 비롯한 다른 국가는 10% 기본 관세가 부과됩니다. 워싱턴 연결합니다. 권준기 특파원 트럼프 대통령이 중국과 다른 나라를 완전히 분리, title: 트럼프 \"중국에 125% 관세...한국 등 나머지 국가 90일 유예\", link: https://www.msn.com/ko-kr/news/other/트럼프-중국에-125-관세-한국-등-나머지-국가-90일-유예/ar-AA1CCyLN, date: 2025-04-09T19:45:00+00:00, source: YTN, snippet: 중국은 당초 34%로 책정된 트럼프 대통령의 상호관세에 같은 세율의 \\'맞불 관세\\'로 대응했고, 미국이 8일 84% (트럼프 정부 출범 후 총 104%)로 올리자 역시 같은 수준에서 맞대응한다고 발표했다., title: 트럼프, 관세전쟁 일단 中 집중…韓, 맞춤형협상 준비시간 확보, link: https://www.msn.com/ko-kr/news/other/트럼프-관세전쟁-일단-中-집중-韓-맞춤형협상-준비시간-확보/ar-AA1CCDsk, date: 2025-04-09T19:14:33+00:00, source: 연합뉴스'"
      ]
     },
     "execution_count": 6,
     "metadata": {},
     "output_type": "execute_result"
    }
   ],
   "source": [
    "search = DuckDuckGoSearchResults(backend=\"news\")\n",
    "\n",
    "search.invoke(\"트럼프\")"
   ]
  },
  {
   "cell_type": "markdown",
   "metadata": {},
   "source": [
    "### 맞춤형 결과\n"
   ]
  },
  {
   "cell_type": "code",
   "execution_count": 8,
   "metadata": {},
   "outputs": [
    {
     "data": {
      "text/plain": [
       "'snippet: 트럼프 행정부는 지난해 12·3 비상계엄 사태 이후 한국의 정치적 상황에 대해서는 말을 아껴 왔다. 지난 4일 윤석열 전 대통령 파면 뒤엔 미 국무부가 \"한국의 민주 기관, 사법 절차와 헌법재판소의 결정을 존중한다\"고 한 게 첫 공식 반응이었다., title: [단독] 트럼프 \"대선 나갈건가\"…한덕수에 직접 물었다 - 미주중앙일보, link: https://www.koreadaily.com/article/20250409130044900, snippet: 도널드 트럼프 대통령의 전 세계를 상대로 한 관세전쟁이 \\'피벗\\'(전환)에 들어갔다. 도널드 트럼프 미국 대통령은 9일(현지시간) 중국의 \\'세계 ..., title: 전세계 뒤흐는 트럼프 관세전쟁…어떻게 바뀌나[Q&A], link: https://www.edaily.co.kr/News/Read?newsId=01666246642134808, snippet: 트럼프 대통령은 한국의 주력 수출 품목 모두를 상호관세와 별개로 한 품목별 관세 대상으로 지정한 상태다. \"트럼프의 두번째 레버리지는 안보\" 트럼프 대통령이 이날 언급한 \\'원스톱 쇼핑\\' 형태의 협상이 진행될 경우 트럼프 대통령은 또 하나의 안보 레버리지를 손에 넣게 된다. 안보 ..., title: 트럼프, \\'안보의존국\\' 먼저 협상…中과 전쟁 앞둔 레버리지 전략? | 중앙일보, link: https://www.joongang.co.kr/article/25327285, snippet: 도널드 트럼프 미국 대통령의 상호관세가 9일 0시1분(미국 동부시간) 발효됐다. 대다수 국가들이 협상을 통한 피해 최소화에 나서고 있지만, 중국 ..., title: 트럼프, 中엔 104% 관세…\"美, 맞으면 더 세게 맞받아친다\" - 디지털타임스, link: https://www.dt.co.kr/contents.html?article_no=2025041002100251607001'"
      ]
     },
     "execution_count": 8,
     "metadata": {},
     "output_type": "execute_result"
    }
   ],
   "source": [
    "from langchain_community.utilities import DuckDuckGoSearchAPIWrapper\n",
    "\n",
    "wrapper = DuckDuckGoSearchAPIWrapper(region=\"de-de\", time=\"d\", max_results=2)\n",
    "\n",
    "search = DuckDuckGoSearchResults(api_wrapper=wrapper, source=\"news\")\n",
    "\n",
    "search.invoke(\"트럼프\")"
   ]
  },
  {
   "cell_type": "markdown",
   "metadata": {},
   "source": [
    "### LLM 연동\n",
    "#### GPT-4o mini 테스트 (검색툴 연동전)"
   ]
  },
  {
   "cell_type": "code",
   "execution_count": 9,
   "metadata": {},
   "outputs": [
    {
     "data": {
      "text/plain": [
       "AIMessage(content='\"오징어 게임\" 시즌 2의 공식 출시일은 아직 발표되지 않았습니다. 제작자와 넷플릭스는 시즌 2의 제작이 진행 중임을 밝혔지만, 구체적인 날짜는 공개되지 않았습니다. 최신 정보를 확인하려면 넷플릭스의 공식 발표나 관련 뉴스를 주시하는 것이 좋습니다.', additional_kwargs={'refusal': None}, response_metadata={'token_usage': {'completion_tokens': 78, 'prompt_tokens': 19, 'total_tokens': 97, 'completion_tokens_details': {'accepted_prediction_tokens': 0, 'audio_tokens': 0, 'reasoning_tokens': 0, 'rejected_prediction_tokens': 0}, 'prompt_tokens_details': {'audio_tokens': 0, 'cached_tokens': 0}}, 'model_name': 'gpt-4o-mini-2024-07-18', 'system_fingerprint': 'fp_b376dfbbd5', 'id': 'chatcmpl-BKaCP2kGeG3pYseAEj9o0qkdoGWZX', 'finish_reason': 'stop', 'logprobs': None}, id='run-3b4d0623-d89d-470c-8292-e7be86af2ea3-0', usage_metadata={'input_tokens': 19, 'output_tokens': 78, 'total_tokens': 97, 'input_token_details': {'audio': 0, 'cache_read': 0}, 'output_token_details': {'audio': 0, 'reasoning': 0}})"
      ]
     },
     "execution_count": 9,
     "metadata": {},
     "output_type": "execute_result"
    }
   ],
   "source": [
    "from langchain_openai import ChatOpenAI\n",
    "\n",
    "llm = ChatOpenAI(\n",
    "    model=\"gpt-4o-mini\",\n",
    "    temperature=0,\n",
    ")\n",
    "\n",
    "llm.invoke(\"오징어게임 2 출시일이 언제야?\")"
   ]
  },
  {
   "cell_type": "markdown",
   "metadata": {},
   "source": [
    "### GPT-4o mini 테스트 (검색툴 연동후)"
   ]
  },
  {
   "cell_type": "code",
   "execution_count": 10,
   "metadata": {},
   "outputs": [
    {
     "data": {
      "text/plain": [
       "\"시즌2는 오늘 (12월 26일) 오후 5시 (한국 시간), 전 세계 동시 공개를 통해 새로운 기록을 향한 여정을 시작합니다. 이번 시즌은 총 9부작으로 구성되어 있으며, 서바이벌 게임의 긴장감을 극대화하는 새로운 에피소드와 예상을 뛰어넘는 전개로 시청자를 사로잡을 예정입니다. 이정재 (성기훈 역): 시즌1에서 마지막 생존자로 남아 복수를 다짐하며 다시 게임에 참가. 이병헌 (프론트맨 역): 게임의 총괄자로서 더욱 확장된 서사와 강렬한 존재감을 예고. 위하준 (황준호 역): 형제 관계의 비밀을 풀기 위해 복귀하는 강력계 형사. 공유 (초대장 전달자): 짧지만 강렬한 장면으로 다시 한 번 미스터리를 더할 예정. 2024년 12월 26일 목요일 오후 5시에 공개됩니다. 넷플릭스 오리지널 시리즈는 이 시간대에 공개되는 게 보통입니다. 평일 저녁 퇴근하고 볼 수 있겠네요. 저는 금요일 밤부터 주말 동안 몰아서 정주행 할 예정입니다. 오징어게임2 '여배우' 누구? '오징어게임 시즌2'는 2024년 12월 26일 넷플릭스에서 전 세계적으로 공개됩니다. 2021년 9월 17일 첫 시즌 공개 이후, 3년 만에 돌아오는 이번 시즌은 9부작으로 구성되며 시즌1의 긴장감 넘치는 서바이벌 게임을 한층 확장시킨 새로운 에피소드를 선보일 ... 넷플리스에서 제작해 전 세계적으로 큰 화제를 모은 오징어게임의 후속편 시즌2가 12월 26일에 개봉 합니다. 크리스마스 시즌에 맞물려 공개될 오징어게임은 넷플릭스 유료 결제를 통해 보실 수 있지만, 네이버가 넷플릭스와 제휴를 맺어 오징어게임2를 무료로 보실 수 있는 방법 이 생겼습니다. 아래를 통해 오징어게임2를 무료로 시청 하실 수 있습니다. 오징어게임2 넷플릭스 무료로 시청하는 꿀팁 정리 : 아주 간단함! 오징어게임2가 드디어 개봉합니다. 오징어게임 시즌2는 12월 26일부터 넷플릭스에서 보실 수 있습니다. 유료 결제가 필요한 넷플릭스를 무료로 시청할 수 있는 꿀팁을 공유해 드리려고 합니다. 오징어게임 시즌 2 공개 일정 및 시간공개일: 2024년 12월 26일공개 시간: 한국 시간 기준 오후 5시부터 넷플릭스 (독점)를 통해 시청!!총 7부작오징어게임 시즌 1 시청을 하지 못했다면 한 달 $5 (프리미엄) 시청 후 시즌2를 함께 즐겨보세요.\""
      ]
     },
     "execution_count": 10,
     "metadata": {},
     "output_type": "execute_result"
    }
   ],
   "source": [
    "from langchain_community.tools import DuckDuckGoSearchRun\n",
    "\n",
    "tool = DuckDuckGoSearchRun()\n",
    "tools = [tool]\n",
    "tool.invoke(\"오징어게임 2 출시일이 언제야?\")"
   ]
  },
  {
   "cell_type": "markdown",
   "metadata": {},
   "source": [
    "#### 상세검색"
   ]
  },
  {
   "cell_type": "code",
   "execution_count": 13,
   "metadata": {},
   "outputs": [
    {
     "name": "stdout",
     "output_type": "stream",
     "text": [
      "================================\u001b[1m System Message \u001b[0m================================\n",
      "\n",
      "You are a helpful assistant.\n",
      "\n",
      "================================\u001b[1m Human Message \u001b[0m=================================\n",
      "\n",
      "\u001b[33;1m\u001b[1;3m{input}\u001b[0m\n",
      "\n",
      "=============================\u001b[1m Messages Placeholder \u001b[0m=============================\n",
      "\n",
      "\u001b[33;1m\u001b[1;3m{agent_scratchpad}\u001b[0m\n"
     ]
    }
   ],
   "source": [
    "from langchain import hub\n",
    "\n",
    "from langchain.agents import AgentExecutor\n",
    "from langchain.agents.format_scratchpad.openai_tools import (\n",
    "    format_to_openai_tool_messages,\n",
    ")\n",
    "from langchain.agents.output_parsers.openai_tools import OpenAIToolsAgentOutputParser\n",
    "\n",
    "llm_with_tools = llm.bind_tools(tools)\n",
    "prompt = hub.pull(\"wfh/langsmith-agent-prompt:5d466cbc\")\n",
    "prompt.pretty_print()\n",
    "\n",
    "runnable_agent = (\n",
    "    {\n",
    "        \"input\": lambda x: x[\"input\"],\n",
    "        \"agent_scratchpad\": lambda x: format_to_openai_tool_messages(\n",
    "            x[\"intermediate_steps\"]\n",
    "        ),\n",
    "    }\n",
    "    | prompt\n",
    "    | llm_with_tools\n",
    "    | OpenAIToolsAgentOutputParser()\n",
    ")\n",
    "\n",
    "agent_executor = AgentExecutor(\n",
    "    agent=runnable_agent, tools=tools, handle_parsing_errors=True\n",
    ")"
   ]
  },
  {
   "cell_type": "code",
   "execution_count": 14,
   "metadata": {},
   "outputs": [
    {
     "data": {
      "text/plain": [
       "{'input': '오징어게임 2 출시일이 언제야?',\n",
       " 'output': '오징어게임 시즌 2는 2024년 12월 26일에 넷플릭스를 통해 전 세계에 공개될 예정입니다. 이번 시즌은 시즌 1의 우승자 성기훈(이정재)이 게임 우승 후 3년 뒤의 이야기를 중심으로 진행됩니다.'}"
      ]
     },
     "execution_count": 14,
     "metadata": {},
     "output_type": "execute_result"
    }
   ],
   "source": [
    "results = agent_executor.invoke({\"input\":\"오징어게임 2 출시일이 언제야?\"})\n",
    "results"
   ]
  },
  {
   "cell_type": "markdown",
   "metadata": {},
   "source": [
    "# Tavily Search"
   ]
  },
  {
   "cell_type": "code",
   "execution_count": 2,
   "metadata": {},
   "outputs": [],
   "source": [
    "from langchain_community.tools import TavilySearchResults\n",
    "import getpass\n",
    "import os\n",
    "\n",
    "tool = TavilySearchResults(\n",
    "    max_results=5\n",
    ")"
   ]
  },
  {
   "cell_type": "code",
   "execution_count": 3,
   "metadata": {},
   "outputs": [
    {
     "data": {
      "text/plain": [
       "[{'title': '버락 오바마의 담대한 희망을 엿보다 - 한겨레',\n",
       "  'url': 'https://www.hani.co.kr/arti/culture/book/221547.html',\n",
       "  'content': '자서전 <내 아버지로부터의 꿈(Dreams from My Father)>(랜덤하우스) 마지막 부분에 나온다. 무덤은 그가 두 살 때 떠나간 아버지 무덤. 아프리카 케냐의 빅토리아호 주변 알레고 출신인 아버지는 영국 식민지시절 하와이대학에 사상 첫 아프리카 유학생으로 입학했고 거기서 백인여성을 만나 결혼하고 그를 낳았다. 따라서 그는 ‘흑인노예’의 자손은 아니다. 그러나 경제학을 공부하던 당당한 인종차별폐지론자 아버지는 곧 하버드대로 옮겨갔고 거기서 박사학위를 받은 뒤 아프리카 고향으로 돌아가버렸다.\\n\\n오바마의 정식 이름은 버락 후세인 오바마다. ‘후세인’은 무슬림인 할아버지 후세인 온양고 오바마에서 왔다. 공화당계 보수언론들은 ‘사담 후세인’을 연상시키는 이 후세인이라는 말을 그의 이름을 거론할 때 반드시 집어넣는다. 하지만 오바마는 프로테스탄트 기독교인이다.',\n",
       "  'score': 0.83742094},\n",
       " {'title': '오바마, 역경 딛고 미국 첫 흑인 재선 대통령 - VOA 한국어',\n",
       "  'url': 'https://www.voakorea.com/a/1587744.html',\n",
       "  'content': \"아버지의 이름을 그대로 물려받은 오바마의 이름 '바락'은 아프리카어로 '축복받은 사람'이라는 의미를 갖고 있지만, 어린 시절은 그리 순탄치 않았습니다\",\n",
       "  'score': 0.77650476},\n",
       " {'title': \"오바마 美 대통령, 한국이름은 '오한마'…“한문이름 아쉽다” - 프라임경제\",\n",
       "  'url': 'https://m.newsprime.co.kr/section_view.html?no=171994&menu=index',\n",
       "  'content': \"협회에 따르면 오바마의 첫글자를 따 '나라 오(吳)'씨를 성씨로 정했으며 이름에 나라 한(韓)자와 말 마(馬)를 써서 미국의 상징인 '말'을 표현했다.\",\n",
       "  'score': 0.7742597},\n",
       " {'title': \"한국 언론은 '버락' 오바마를 민다? - 오마이뉴스\",\n",
       "  'url': 'https://www.ohmynews.com/NWS_Web/View/at_pg.aspx?CNTN_CD=A0000808336',\n",
       "  'content': \"성(姓)은 '오바마'로 같지만 이름(名)은 여러 가지 표기로 사용되고 있다는 뜻이다. ... 가장 많은 한국 언론이 선호하는 이름은 '버락'이다. 대부분의\",\n",
       "  'score': 0.72907686},\n",
       " {'title': '오바마 \"내 이름이 후세인인 이유가 있다\"…케냐서 첫 연설 - 연합뉴스',\n",
       "  'url': 'https://www.yna.co.kr/view/AKR20150725049300009',\n",
       "  'content': '케냐에서의 첫 공식 코멘트인 정상회의 연설에서 그는 \"내 이름이 \\'버락 후세인 오바마\\'인 데는 이유가 있다\"며 거듭 케냐와 자신의 인연을 강조했다.',\n",
       "  'score': 0.6420965}]"
      ]
     },
     "execution_count": 3,
     "metadata": {},
     "output_type": "execute_result"
    }
   ],
   "source": [
    "tool.invoke({\"query\": \"오바마의 이름이 뭐야?\"})"
   ]
  },
  {
   "cell_type": "code",
   "execution_count": 5,
   "metadata": {},
   "outputs": [],
   "source": [
    "from langchain_openai import ChatOpenAI\n",
    "\n",
    "llm = ChatOpenAI(\n",
    "    model=\"gpt-4o-mini\",\n",
    "    temperature=0,\n",
    ")"
   ]
  },
  {
   "cell_type": "code",
   "execution_count": 6,
   "metadata": {},
   "outputs": [],
   "source": [
    "import datetime\n",
    "\n",
    "from langchain_core.prompts import ChatPromptTemplate\n",
    "from langchain_core.runnables import RunnableConfig, chain\n",
    "\n",
    "today = datetime.datetime.today().strftime(\"%D\")\n",
    "prompt = ChatPromptTemplate(\n",
    "    [\n",
    "        (\"system\", f\"You are a helpful assistant. The date today is {today}.\"),\n",
    "        (\"human\", \"{user_input}\"),\n",
    "        (\"placeholder\", \"{messages}\"),\n",
    "    ]\n",
    ")\n",
    "\n",
    "# specifying tool_choice will force the model to call this tool.\n",
    "llm_with_tools = llm.bind_tools([tool])\n",
    "\n",
    "llm_chain = prompt | llm_with_tools\n",
    "\n",
    "@chain\n",
    "def tool_chain(user_input: str, config: RunnableConfig):\n",
    "    input_ = {\"user_input\": user_input}\n",
    "    ai_msg = llm_chain.invoke(input_, config=config)\n",
    "    tool_msgs = tool.batch(ai_msg.tool_calls, config=config)\n",
    "    return llm_chain.invoke({**input_, \"messages\": [ai_msg, *tool_msgs]}, config=config)\n",
    "\n",
    "\n"
   ]
  },
  {
   "cell_type": "code",
   "execution_count": 7,
   "metadata": {},
   "outputs": [
    {
     "data": {
      "text/plain": [
       "AIMessage(content='오징어게임 시즌 2는 2024년 12월 26일에 공개될 예정입니다. 총 7부작으로 구성되어 있습니다. 더 자세한 내용은 [여기](https://namu.wiki/w/%EC%98%A4%EC%A7%95%EC%96%B4%20%EA%B2%8C%EC%9E%84(%EC%8B%9C%EC%A6%8C%202))에서 확인하실 수 있습니다.', additional_kwargs={'refusal': None}, response_metadata={'token_usage': {'completion_tokens': 111, 'prompt_tokens': 775, 'total_tokens': 886, 'completion_tokens_details': {'accepted_prediction_tokens': 0, 'audio_tokens': 0, 'reasoning_tokens': 0, 'rejected_prediction_tokens': 0}, 'prompt_tokens_details': {'audio_tokens': 0, 'cached_tokens': 0}}, 'model_name': 'gpt-4o-mini-2024-07-18', 'system_fingerprint': 'fp_44added55e', 'id': 'chatcmpl-BKaYMKV1NieGMXrVAZqn7g7EkuziR', 'finish_reason': 'stop', 'logprobs': None}, id='run-b279b6a0-fd42-400a-bda8-2fba4882b6c0-0', usage_metadata={'input_tokens': 775, 'output_tokens': 111, 'total_tokens': 886, 'input_token_details': {'audio': 0, 'cache_read': 0}, 'output_token_details': {'audio': 0, 'reasoning': 0}})"
      ]
     },
     "execution_count": 7,
     "metadata": {},
     "output_type": "execute_result"
    }
   ],
   "source": [
    "tool_chain.invoke(\"오징어게임 2 출시일이 언제야?\")"
   ]
  }
 ],
 "metadata": {
  "kernelspec": {
   "display_name": "Python (llm-langraph)",
   "language": "python",
   "name": "llm-langraph"
  },
  "language_info": {
   "codemirror_mode": {
    "name": "ipython",
    "version": 3
   },
   "file_extension": ".py",
   "mimetype": "text/x-python",
   "name": "python",
   "nbconvert_exporter": "python",
   "pygments_lexer": "ipython3",
   "version": "3.10.12"
  }
 },
 "nbformat": 4,
 "nbformat_minor": 2
}
