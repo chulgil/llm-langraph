{
 "cells": [
  {
   "cell_type": "markdown",
   "metadata": {},
   "source": [
    "# LangGraph Custom Tool 정의하기\n",
    "\n"
   ]
  },
  {
   "cell_type": "code",
   "execution_count": 2,
   "metadata": {},
   "outputs": [
    {
     "name": "stdout",
     "output_type": "stream",
     "text": [
      "Requirement already satisfied: langchain in /Users/r00360/.pyenv/versions/3.10.12/envs/llm-app/lib/python3.10/site-packages (0.3.23)\n",
      "Requirement already satisfied: langchain_openai in /Users/r00360/.pyenv/versions/3.10.12/envs/llm-app/lib/python3.10/site-packages (0.3.12)\n",
      "Requirement already satisfied: langsmith in /Users/r00360/.pyenv/versions/3.10.12/envs/llm-app/lib/python3.10/site-packages (0.3.28)\n",
      "Requirement already satisfied: pandas in /Users/r00360/.pyenv/versions/3.10.12/envs/llm-app/lib/python3.10/site-packages (2.2.3)\n",
      "Requirement already satisfied: langchain_experimental in /Users/r00360/.pyenv/versions/3.10.12/envs/llm-app/lib/python3.10/site-packages (0.3.4)\n",
      "Requirement already satisfied: matplotlib in /Users/r00360/.pyenv/versions/3.10.12/envs/llm-app/lib/python3.10/site-packages (3.10.1)\n",
      "Requirement already satisfied: langgraph in /Users/r00360/.pyenv/versions/3.10.12/envs/llm-app/lib/python3.10/site-packages (0.3.27)\n",
      "Requirement already satisfied: langchain_core in /Users/r00360/.pyenv/versions/3.10.12/envs/llm-app/lib/python3.10/site-packages (0.3.51)\n",
      "Requirement already satisfied: duckduckgo-search in /Users/r00360/.pyenv/versions/3.10.12/envs/llm-app/lib/python3.10/site-packages (8.0.0)\n",
      "Requirement already satisfied: langchain-community in /Users/r00360/.pyenv/versions/3.10.12/envs/llm-app/lib/python3.10/site-packages (0.3.21)\n",
      "Requirement already satisfied: chromadb in /Users/r00360/.pyenv/versions/3.10.12/envs/llm-app/lib/python3.10/site-packages (1.0.4)\n",
      "Requirement already satisfied: requests<3,>=2 in /Users/r00360/.pyenv/versions/3.10.12/envs/llm-app/lib/python3.10/site-packages (from langchain) (2.32.3)\n",
      "Requirement already satisfied: PyYAML>=5.3 in /Users/r00360/.pyenv/versions/3.10.12/envs/llm-app/lib/python3.10/site-packages (from langchain) (6.0.2)\n",
      "Requirement already satisfied: pydantic<3.0.0,>=2.7.4 in /Users/r00360/.pyenv/versions/3.10.12/envs/llm-app/lib/python3.10/site-packages (from langchain) (2.11.3)\n",
      "Requirement already satisfied: async-timeout<5.0.0,>=4.0.0 in /Users/r00360/.pyenv/versions/3.10.12/envs/llm-app/lib/python3.10/site-packages (from langchain) (4.0.3)\n",
      "Requirement already satisfied: SQLAlchemy<3,>=1.4 in /Users/r00360/.pyenv/versions/3.10.12/envs/llm-app/lib/python3.10/site-packages (from langchain) (2.0.40)\n",
      "Requirement already satisfied: langchain-text-splitters<1.0.0,>=0.3.8 in /Users/r00360/.pyenv/versions/3.10.12/envs/llm-app/lib/python3.10/site-packages (from langchain) (0.3.8)\n",
      "Requirement already satisfied: openai<2.0.0,>=1.68.2 in /Users/r00360/.pyenv/versions/3.10.12/envs/llm-app/lib/python3.10/site-packages (from langchain_openai) (1.72.0)\n",
      "Requirement already satisfied: tiktoken<1,>=0.7 in /Users/r00360/.pyenv/versions/3.10.12/envs/llm-app/lib/python3.10/site-packages (from langchain_openai) (0.9.0)\n",
      "Requirement already satisfied: requests-toolbelt<2.0.0,>=1.0.0 in /Users/r00360/.pyenv/versions/3.10.12/envs/llm-app/lib/python3.10/site-packages (from langsmith) (1.0.0)\n",
      "Requirement already satisfied: zstandard<0.24.0,>=0.23.0 in /Users/r00360/.pyenv/versions/3.10.12/envs/llm-app/lib/python3.10/site-packages (from langsmith) (0.23.0)\n",
      "Requirement already satisfied: packaging>=23.2 in /Users/r00360/.pyenv/versions/3.10.12/envs/llm-app/lib/python3.10/site-packages (from langsmith) (24.2)\n",
      "Requirement already satisfied: httpx<1,>=0.23.0 in /Users/r00360/.pyenv/versions/3.10.12/envs/llm-app/lib/python3.10/site-packages (from langsmith) (0.28.1)\n",
      "Requirement already satisfied: orjson<4.0.0,>=3.9.14 in /Users/r00360/.pyenv/versions/3.10.12/envs/llm-app/lib/python3.10/site-packages (from langsmith) (3.10.16)\n",
      "Requirement already satisfied: pytz>=2020.1 in /Users/r00360/.pyenv/versions/3.10.12/envs/llm-app/lib/python3.10/site-packages (from pandas) (2025.2)\n",
      "Requirement already satisfied: tzdata>=2022.7 in /Users/r00360/.pyenv/versions/3.10.12/envs/llm-app/lib/python3.10/site-packages (from pandas) (2025.2)\n",
      "Requirement already satisfied: numpy>=1.22.4 in /Users/r00360/.pyenv/versions/3.10.12/envs/llm-app/lib/python3.10/site-packages (from pandas) (2.2.4)\n",
      "Requirement already satisfied: python-dateutil>=2.8.2 in /Users/r00360/.pyenv/versions/3.10.12/envs/llm-app/lib/python3.10/site-packages (from pandas) (2.9.0.post0)\n",
      "Requirement already satisfied: pillow>=8 in /Users/r00360/.pyenv/versions/3.10.12/envs/llm-app/lib/python3.10/site-packages (from matplotlib) (11.1.0)\n",
      "Requirement already satisfied: contourpy>=1.0.1 in /Users/r00360/.pyenv/versions/3.10.12/envs/llm-app/lib/python3.10/site-packages (from matplotlib) (1.3.1)\n",
      "Requirement already satisfied: kiwisolver>=1.3.1 in /Users/r00360/.pyenv/versions/3.10.12/envs/llm-app/lib/python3.10/site-packages (from matplotlib) (1.4.8)\n",
      "Requirement already satisfied: cycler>=0.10 in /Users/r00360/.pyenv/versions/3.10.12/envs/llm-app/lib/python3.10/site-packages (from matplotlib) (0.12.1)\n",
      "Requirement already satisfied: fonttools>=4.22.0 in /Users/r00360/.pyenv/versions/3.10.12/envs/llm-app/lib/python3.10/site-packages (from matplotlib) (4.57.0)\n",
      "Requirement already satisfied: pyparsing>=2.3.1 in /Users/r00360/.pyenv/versions/3.10.12/envs/llm-app/lib/python3.10/site-packages (from matplotlib) (3.2.3)\n",
      "Requirement already satisfied: langgraph-sdk<0.2.0,>=0.1.42 in /Users/r00360/.pyenv/versions/3.10.12/envs/llm-app/lib/python3.10/site-packages (from langgraph) (0.1.61)\n",
      "Requirement already satisfied: langgraph-prebuilt<0.2,>=0.1.1 in /Users/r00360/.pyenv/versions/3.10.12/envs/llm-app/lib/python3.10/site-packages (from langgraph) (0.1.8)\n",
      "Requirement already satisfied: xxhash<4.0.0,>=3.5.0 in /Users/r00360/.pyenv/versions/3.10.12/envs/llm-app/lib/python3.10/site-packages (from langgraph) (3.5.0)\n",
      "Requirement already satisfied: langgraph-checkpoint<3.0.0,>=2.0.10 in /Users/r00360/.pyenv/versions/3.10.12/envs/llm-app/lib/python3.10/site-packages (from langgraph) (2.0.24)\n",
      "Requirement already satisfied: typing-extensions>=4.7 in /Users/r00360/.pyenv/versions/3.10.12/envs/llm-app/lib/python3.10/site-packages (from langchain_core) (4.13.1)\n",
      "Requirement already satisfied: jsonpatch<2.0,>=1.33 in /Users/r00360/.pyenv/versions/3.10.12/envs/llm-app/lib/python3.10/site-packages (from langchain_core) (1.33)\n",
      "Requirement already satisfied: tenacity!=8.4.0,<10.0.0,>=8.1.0 in /Users/r00360/.pyenv/versions/3.10.12/envs/llm-app/lib/python3.10/site-packages (from langchain_core) (9.1.2)\n",
      "Requirement already satisfied: primp>=0.14.0 in /Users/r00360/.pyenv/versions/3.10.12/envs/llm-app/lib/python3.10/site-packages (from duckduckgo-search) (0.14.0)\n",
      "Requirement already satisfied: click>=8.1.8 in /Users/r00360/.pyenv/versions/3.10.12/envs/llm-app/lib/python3.10/site-packages (from duckduckgo-search) (8.1.8)\n",
      "Requirement already satisfied: lxml>=5.3.0 in /Users/r00360/.pyenv/versions/3.10.12/envs/llm-app/lib/python3.10/site-packages (from duckduckgo-search) (5.3.2)\n",
      "Requirement already satisfied: aiohttp<4.0.0,>=3.8.3 in /Users/r00360/.pyenv/versions/3.10.12/envs/llm-app/lib/python3.10/site-packages (from langchain-community) (3.11.16)\n",
      "Requirement already satisfied: pydantic-settings<3.0.0,>=2.4.0 in /Users/r00360/.pyenv/versions/3.10.12/envs/llm-app/lib/python3.10/site-packages (from langchain-community) (2.8.1)\n",
      "Requirement already satisfied: httpx-sse<1.0.0,>=0.4.0 in /Users/r00360/.pyenv/versions/3.10.12/envs/llm-app/lib/python3.10/site-packages (from langchain-community) (0.4.0)\n",
      "Requirement already satisfied: dataclasses-json<0.7,>=0.5.7 in /Users/r00360/.pyenv/versions/3.10.12/envs/llm-app/lib/python3.10/site-packages (from langchain-community) (0.6.7)\n",
      "Requirement already satisfied: tokenizers>=0.13.2 in /Users/r00360/.pyenv/versions/3.10.12/envs/llm-app/lib/python3.10/site-packages (from chromadb) (0.21.1)\n",
      "Requirement already satisfied: tqdm>=4.65.0 in /Users/r00360/.pyenv/versions/3.10.12/envs/llm-app/lib/python3.10/site-packages (from chromadb) (4.67.1)\n",
      "Requirement already satisfied: pypika>=0.48.9 in /Users/r00360/.pyenv/versions/3.10.12/envs/llm-app/lib/python3.10/site-packages (from chromadb) (0.48.9)\n",
      "Requirement already satisfied: fastapi==0.115.9 in /Users/r00360/.pyenv/versions/3.10.12/envs/llm-app/lib/python3.10/site-packages (from chromadb) (0.115.9)\n",
      "Requirement already satisfied: grpcio>=1.58.0 in /Users/r00360/.pyenv/versions/3.10.12/envs/llm-app/lib/python3.10/site-packages (from chromadb) (1.71.0)\n",
      "Requirement already satisfied: chroma-hnswlib==0.7.6 in /Users/r00360/.pyenv/versions/3.10.12/envs/llm-app/lib/python3.10/site-packages (from chromadb) (0.7.6)\n",
      "Requirement already satisfied: kubernetes>=28.1.0 in /Users/r00360/.pyenv/versions/3.10.12/envs/llm-app/lib/python3.10/site-packages (from chromadb) (32.0.1)\n",
      "Requirement already satisfied: typer>=0.9.0 in /Users/r00360/.pyenv/versions/3.10.12/envs/llm-app/lib/python3.10/site-packages (from chromadb) (0.15.2)\n",
      "Requirement already satisfied: opentelemetry-instrumentation-fastapi>=0.41b0 in /Users/r00360/.pyenv/versions/3.10.12/envs/llm-app/lib/python3.10/site-packages (from chromadb) (0.52b1)\n",
      "Requirement already satisfied: posthog>=2.4.0 in /Users/r00360/.pyenv/versions/3.10.12/envs/llm-app/lib/python3.10/site-packages (from chromadb) (3.23.0)\n",
      "Requirement already satisfied: rich>=10.11.0 in /Users/r00360/.pyenv/versions/3.10.12/envs/llm-app/lib/python3.10/site-packages (from chromadb) (14.0.0)\n",
      "Requirement already satisfied: opentelemetry-exporter-otlp-proto-grpc>=1.2.0 in /Users/r00360/.pyenv/versions/3.10.12/envs/llm-app/lib/python3.10/site-packages (from chromadb) (1.31.1)\n",
      "Requirement already satisfied: mmh3>=4.0.1 in /Users/r00360/.pyenv/versions/3.10.12/envs/llm-app/lib/python3.10/site-packages (from chromadb) (5.1.0)\n",
      "Requirement already satisfied: overrides>=7.3.1 in /Users/r00360/.pyenv/versions/3.10.12/envs/llm-app/lib/python3.10/site-packages (from chromadb) (7.7.0)\n",
      "Requirement already satisfied: build>=1.0.3 in /Users/r00360/.pyenv/versions/3.10.12/envs/llm-app/lib/python3.10/site-packages (from chromadb) (1.2.2.post1)\n",
      "Requirement already satisfied: bcrypt>=4.0.1 in /Users/r00360/.pyenv/versions/3.10.12/envs/llm-app/lib/python3.10/site-packages (from chromadb) (4.3.0)\n",
      "Requirement already satisfied: uvicorn[standard]>=0.18.3 in /Users/r00360/.pyenv/versions/3.10.12/envs/llm-app/lib/python3.10/site-packages (from chromadb) (0.34.0)\n",
      "Requirement already satisfied: opentelemetry-api>=1.2.0 in /Users/r00360/.pyenv/versions/3.10.12/envs/llm-app/lib/python3.10/site-packages (from chromadb) (1.31.1)\n",
      "Requirement already satisfied: importlib-resources in /Users/r00360/.pyenv/versions/3.10.12/envs/llm-app/lib/python3.10/site-packages (from chromadb) (6.5.2)\n",
      "Requirement already satisfied: opentelemetry-sdk>=1.2.0 in /Users/r00360/.pyenv/versions/3.10.12/envs/llm-app/lib/python3.10/site-packages (from chromadb) (1.31.1)\n",
      "Requirement already satisfied: jsonschema>=4.19.0 in /Users/r00360/.pyenv/versions/3.10.12/envs/llm-app/lib/python3.10/site-packages (from chromadb) (4.23.0)\n",
      "Requirement already satisfied: onnxruntime>=1.14.1 in /Users/r00360/.pyenv/versions/3.10.12/envs/llm-app/lib/python3.10/site-packages (from chromadb) (1.21.0)\n",
      "Requirement already satisfied: starlette<0.46.0,>=0.40.0 in /Users/r00360/.pyenv/versions/3.10.12/envs/llm-app/lib/python3.10/site-packages (from fastapi==0.115.9->chromadb) (0.45.3)\n",
      "Requirement already satisfied: yarl<2.0,>=1.17.0 in /Users/r00360/.pyenv/versions/3.10.12/envs/llm-app/lib/python3.10/site-packages (from aiohttp<4.0.0,>=3.8.3->langchain-community) (1.19.0)\n",
      "Requirement already satisfied: multidict<7.0,>=4.5 in /Users/r00360/.pyenv/versions/3.10.12/envs/llm-app/lib/python3.10/site-packages (from aiohttp<4.0.0,>=3.8.3->langchain-community) (6.4.2)\n",
      "Requirement already satisfied: aiohappyeyeballs>=2.3.0 in /Users/r00360/.pyenv/versions/3.10.12/envs/llm-app/lib/python3.10/site-packages (from aiohttp<4.0.0,>=3.8.3->langchain-community) (2.6.1)\n",
      "Requirement already satisfied: aiosignal>=1.1.2 in /Users/r00360/.pyenv/versions/3.10.12/envs/llm-app/lib/python3.10/site-packages (from aiohttp<4.0.0,>=3.8.3->langchain-community) (1.3.2)\n",
      "Requirement already satisfied: frozenlist>=1.1.1 in /Users/r00360/.pyenv/versions/3.10.12/envs/llm-app/lib/python3.10/site-packages (from aiohttp<4.0.0,>=3.8.3->langchain-community) (1.5.0)\n",
      "Requirement already satisfied: propcache>=0.2.0 in /Users/r00360/.pyenv/versions/3.10.12/envs/llm-app/lib/python3.10/site-packages (from aiohttp<4.0.0,>=3.8.3->langchain-community) (0.3.1)\n",
      "Requirement already satisfied: attrs>=17.3.0 in /Users/r00360/.pyenv/versions/3.10.12/envs/llm-app/lib/python3.10/site-packages (from aiohttp<4.0.0,>=3.8.3->langchain-community) (25.3.0)\n",
      "Requirement already satisfied: tomli>=1.1.0 in /Users/r00360/.pyenv/versions/3.10.12/envs/llm-app/lib/python3.10/site-packages (from build>=1.0.3->chromadb) (2.2.1)\n",
      "Requirement already satisfied: pyproject_hooks in /Users/r00360/.pyenv/versions/3.10.12/envs/llm-app/lib/python3.10/site-packages (from build>=1.0.3->chromadb) (1.2.0)\n",
      "Requirement already satisfied: marshmallow<4.0.0,>=3.18.0 in /Users/r00360/.pyenv/versions/3.10.12/envs/llm-app/lib/python3.10/site-packages (from dataclasses-json<0.7,>=0.5.7->langchain-community) (3.26.1)\n",
      "Requirement already satisfied: typing-inspect<1,>=0.4.0 in /Users/r00360/.pyenv/versions/3.10.12/envs/llm-app/lib/python3.10/site-packages (from dataclasses-json<0.7,>=0.5.7->langchain-community) (0.9.0)\n",
      "Requirement already satisfied: idna in /Users/r00360/.pyenv/versions/3.10.12/envs/llm-app/lib/python3.10/site-packages (from httpx<1,>=0.23.0->langsmith) (3.10)\n",
      "Requirement already satisfied: anyio in /Users/r00360/.pyenv/versions/3.10.12/envs/llm-app/lib/python3.10/site-packages (from httpx<1,>=0.23.0->langsmith) (4.9.0)\n",
      "Requirement already satisfied: httpcore==1.* in /Users/r00360/.pyenv/versions/3.10.12/envs/llm-app/lib/python3.10/site-packages (from httpx<1,>=0.23.0->langsmith) (1.0.7)\n",
      "Requirement already satisfied: certifi in /Users/r00360/.pyenv/versions/3.10.12/envs/llm-app/lib/python3.10/site-packages (from httpx<1,>=0.23.0->langsmith) (2025.1.31)\n",
      "Requirement already satisfied: h11<0.15,>=0.13 in /Users/r00360/.pyenv/versions/3.10.12/envs/llm-app/lib/python3.10/site-packages (from httpcore==1.*->httpx<1,>=0.23.0->langsmith) (0.14.0)\n",
      "Requirement already satisfied: jsonpointer>=1.9 in /Users/r00360/.pyenv/versions/3.10.12/envs/llm-app/lib/python3.10/site-packages (from jsonpatch<2.0,>=1.33->langchain_core) (3.0.0)\n",
      "Requirement already satisfied: referencing>=0.28.4 in /Users/r00360/.pyenv/versions/3.10.12/envs/llm-app/lib/python3.10/site-packages (from jsonschema>=4.19.0->chromadb) (0.36.2)\n",
      "Requirement already satisfied: jsonschema-specifications>=2023.03.6 in /Users/r00360/.pyenv/versions/3.10.12/envs/llm-app/lib/python3.10/site-packages (from jsonschema>=4.19.0->chromadb) (2024.10.1)\n",
      "Requirement already satisfied: rpds-py>=0.7.1 in /Users/r00360/.pyenv/versions/3.10.12/envs/llm-app/lib/python3.10/site-packages (from jsonschema>=4.19.0->chromadb) (0.24.0)\n",
      "Requirement already satisfied: durationpy>=0.7 in /Users/r00360/.pyenv/versions/3.10.12/envs/llm-app/lib/python3.10/site-packages (from kubernetes>=28.1.0->chromadb) (0.9)\n",
      "Requirement already satisfied: google-auth>=1.0.1 in /Users/r00360/.pyenv/versions/3.10.12/envs/llm-app/lib/python3.10/site-packages (from kubernetes>=28.1.0->chromadb) (2.38.0)\n",
      "Requirement already satisfied: websocket-client!=0.40.0,!=0.41.*,!=0.42.*,>=0.32.0 in /Users/r00360/.pyenv/versions/3.10.12/envs/llm-app/lib/python3.10/site-packages (from kubernetes>=28.1.0->chromadb) (1.8.0)\n",
      "Requirement already satisfied: oauthlib>=3.2.2 in /Users/r00360/.pyenv/versions/3.10.12/envs/llm-app/lib/python3.10/site-packages (from kubernetes>=28.1.0->chromadb) (3.2.2)\n",
      "Requirement already satisfied: requests-oauthlib in /Users/r00360/.pyenv/versions/3.10.12/envs/llm-app/lib/python3.10/site-packages (from kubernetes>=28.1.0->chromadb) (2.0.0)\n",
      "Requirement already satisfied: urllib3>=1.24.2 in /Users/r00360/.pyenv/versions/3.10.12/envs/llm-app/lib/python3.10/site-packages (from kubernetes>=28.1.0->chromadb) (2.3.0)\n",
      "Requirement already satisfied: six>=1.9.0 in /Users/r00360/.pyenv/versions/3.10.12/envs/llm-app/lib/python3.10/site-packages (from kubernetes>=28.1.0->chromadb) (1.17.0)\n",
      "Requirement already satisfied: ormsgpack<2.0.0,>=1.8.0 in /Users/r00360/.pyenv/versions/3.10.12/envs/llm-app/lib/python3.10/site-packages (from langgraph-checkpoint<3.0.0,>=2.0.10->langgraph) (1.9.1)\n",
      "Requirement already satisfied: sympy in /Users/r00360/.pyenv/versions/3.10.12/envs/llm-app/lib/python3.10/site-packages (from onnxruntime>=1.14.1->chromadb) (1.13.3)\n",
      "Requirement already satisfied: protobuf in /Users/r00360/.pyenv/versions/3.10.12/envs/llm-app/lib/python3.10/site-packages (from onnxruntime>=1.14.1->chromadb) (5.29.4)\n",
      "Requirement already satisfied: flatbuffers in /Users/r00360/.pyenv/versions/3.10.12/envs/llm-app/lib/python3.10/site-packages (from onnxruntime>=1.14.1->chromadb) (25.2.10)\n",
      "Requirement already satisfied: coloredlogs in /Users/r00360/.pyenv/versions/3.10.12/envs/llm-app/lib/python3.10/site-packages (from onnxruntime>=1.14.1->chromadb) (15.0.1)\n",
      "Requirement already satisfied: sniffio in /Users/r00360/.pyenv/versions/3.10.12/envs/llm-app/lib/python3.10/site-packages (from openai<2.0.0,>=1.68.2->langchain_openai) (1.3.1)\n",
      "Requirement already satisfied: jiter<1,>=0.4.0 in /Users/r00360/.pyenv/versions/3.10.12/envs/llm-app/lib/python3.10/site-packages (from openai<2.0.0,>=1.68.2->langchain_openai) (0.9.0)\n",
      "Requirement already satisfied: distro<2,>=1.7.0 in /Users/r00360/.pyenv/versions/3.10.12/envs/llm-app/lib/python3.10/site-packages (from openai<2.0.0,>=1.68.2->langchain_openai) (1.9.0)\n",
      "Requirement already satisfied: deprecated>=1.2.6 in /Users/r00360/.pyenv/versions/3.10.12/envs/llm-app/lib/python3.10/site-packages (from opentelemetry-api>=1.2.0->chromadb) (1.2.18)\n",
      "Requirement already satisfied: importlib-metadata<8.7.0,>=6.0 in /Users/r00360/.pyenv/versions/3.10.12/envs/llm-app/lib/python3.10/site-packages (from opentelemetry-api>=1.2.0->chromadb) (8.6.1)\n",
      "Requirement already satisfied: googleapis-common-protos~=1.52 in /Users/r00360/.pyenv/versions/3.10.12/envs/llm-app/lib/python3.10/site-packages (from opentelemetry-exporter-otlp-proto-grpc>=1.2.0->chromadb) (1.69.2)\n",
      "Requirement already satisfied: opentelemetry-proto==1.31.1 in /Users/r00360/.pyenv/versions/3.10.12/envs/llm-app/lib/python3.10/site-packages (from opentelemetry-exporter-otlp-proto-grpc>=1.2.0->chromadb) (1.31.1)\n",
      "Requirement already satisfied: opentelemetry-exporter-otlp-proto-common==1.31.1 in /Users/r00360/.pyenv/versions/3.10.12/envs/llm-app/lib/python3.10/site-packages (from opentelemetry-exporter-otlp-proto-grpc>=1.2.0->chromadb) (1.31.1)\n",
      "Requirement already satisfied: opentelemetry-semantic-conventions==0.52b1 in /Users/r00360/.pyenv/versions/3.10.12/envs/llm-app/lib/python3.10/site-packages (from opentelemetry-instrumentation-fastapi>=0.41b0->chromadb) (0.52b1)\n",
      "Requirement already satisfied: opentelemetry-instrumentation==0.52b1 in /Users/r00360/.pyenv/versions/3.10.12/envs/llm-app/lib/python3.10/site-packages (from opentelemetry-instrumentation-fastapi>=0.41b0->chromadb) (0.52b1)\n",
      "Requirement already satisfied: opentelemetry-instrumentation-asgi==0.52b1 in /Users/r00360/.pyenv/versions/3.10.12/envs/llm-app/lib/python3.10/site-packages (from opentelemetry-instrumentation-fastapi>=0.41b0->chromadb) (0.52b1)\n",
      "Requirement already satisfied: opentelemetry-util-http==0.52b1 in /Users/r00360/.pyenv/versions/3.10.12/envs/llm-app/lib/python3.10/site-packages (from opentelemetry-instrumentation-fastapi>=0.41b0->chromadb) (0.52b1)\n",
      "Requirement already satisfied: wrapt<2.0.0,>=1.0.0 in /Users/r00360/.pyenv/versions/3.10.12/envs/llm-app/lib/python3.10/site-packages (from opentelemetry-instrumentation==0.52b1->opentelemetry-instrumentation-fastapi>=0.41b0->chromadb) (1.17.2)\n",
      "Requirement already satisfied: asgiref~=3.0 in /Users/r00360/.pyenv/versions/3.10.12/envs/llm-app/lib/python3.10/site-packages (from opentelemetry-instrumentation-asgi==0.52b1->opentelemetry-instrumentation-fastapi>=0.41b0->chromadb) (3.8.1)\n",
      "Requirement already satisfied: backoff>=1.10.0 in /Users/r00360/.pyenv/versions/3.10.12/envs/llm-app/lib/python3.10/site-packages (from posthog>=2.4.0->chromadb) (2.2.1)\n",
      "Requirement already satisfied: monotonic>=1.5 in /Users/r00360/.pyenv/versions/3.10.12/envs/llm-app/lib/python3.10/site-packages (from posthog>=2.4.0->chromadb) (1.6)\n",
      "Requirement already satisfied: pydantic-core==2.33.1 in /Users/r00360/.pyenv/versions/3.10.12/envs/llm-app/lib/python3.10/site-packages (from pydantic<3.0.0,>=2.7.4->langchain) (2.33.1)\n",
      "Requirement already satisfied: annotated-types>=0.6.0 in /Users/r00360/.pyenv/versions/3.10.12/envs/llm-app/lib/python3.10/site-packages (from pydantic<3.0.0,>=2.7.4->langchain) (0.7.0)\n",
      "Requirement already satisfied: typing-inspection>=0.4.0 in /Users/r00360/.pyenv/versions/3.10.12/envs/llm-app/lib/python3.10/site-packages (from pydantic<3.0.0,>=2.7.4->langchain) (0.4.0)\n",
      "Requirement already satisfied: python-dotenv>=0.21.0 in /Users/r00360/.pyenv/versions/3.10.12/envs/llm-app/lib/python3.10/site-packages (from pydantic-settings<3.0.0,>=2.4.0->langchain-community) (1.1.0)\n",
      "Requirement already satisfied: charset-normalizer<4,>=2 in /Users/r00360/.pyenv/versions/3.10.12/envs/llm-app/lib/python3.10/site-packages (from requests<3,>=2->langchain) (3.4.1)\n",
      "Requirement already satisfied: markdown-it-py>=2.2.0 in /Users/r00360/.pyenv/versions/3.10.12/envs/llm-app/lib/python3.10/site-packages (from rich>=10.11.0->chromadb) (3.0.0)\n",
      "Requirement already satisfied: pygments<3.0.0,>=2.13.0 in /Users/r00360/.pyenv/versions/3.10.12/envs/llm-app/lib/python3.10/site-packages (from rich>=10.11.0->chromadb) (2.19.1)\n",
      "Requirement already satisfied: regex>=2022.1.18 in /Users/r00360/.pyenv/versions/3.10.12/envs/llm-app/lib/python3.10/site-packages (from tiktoken<1,>=0.7->langchain_openai) (2024.11.6)\n",
      "Requirement already satisfied: huggingface-hub<1.0,>=0.16.4 in /Users/r00360/.pyenv/versions/3.10.12/envs/llm-app/lib/python3.10/site-packages (from tokenizers>=0.13.2->chromadb) (0.30.2)\n",
      "Requirement already satisfied: shellingham>=1.3.0 in /Users/r00360/.pyenv/versions/3.10.12/envs/llm-app/lib/python3.10/site-packages (from typer>=0.9.0->chromadb) (1.5.4)\n",
      "Requirement already satisfied: httptools>=0.6.3 in /Users/r00360/.pyenv/versions/3.10.12/envs/llm-app/lib/python3.10/site-packages (from uvicorn[standard]>=0.18.3->chromadb) (0.6.4)\n",
      "Requirement already satisfied: websockets>=10.4 in /Users/r00360/.pyenv/versions/3.10.12/envs/llm-app/lib/python3.10/site-packages (from uvicorn[standard]>=0.18.3->chromadb) (15.0.1)\n",
      "Requirement already satisfied: uvloop!=0.15.0,!=0.15.1,>=0.14.0 in /Users/r00360/.pyenv/versions/3.10.12/envs/llm-app/lib/python3.10/site-packages (from uvicorn[standard]>=0.18.3->chromadb) (0.21.0)\n",
      "Requirement already satisfied: watchfiles>=0.13 in /Users/r00360/.pyenv/versions/3.10.12/envs/llm-app/lib/python3.10/site-packages (from uvicorn[standard]>=0.18.3->chromadb) (1.0.5)\n",
      "Requirement already satisfied: exceptiongroup>=1.0.2 in /Users/r00360/.pyenv/versions/3.10.12/envs/llm-app/lib/python3.10/site-packages (from anyio->httpx<1,>=0.23.0->langsmith) (1.2.2)\n",
      "Requirement already satisfied: rsa<5,>=3.1.4 in /Users/r00360/.pyenv/versions/3.10.12/envs/llm-app/lib/python3.10/site-packages (from google-auth>=1.0.1->kubernetes>=28.1.0->chromadb) (4.9)\n",
      "Requirement already satisfied: cachetools<6.0,>=2.0.0 in /Users/r00360/.pyenv/versions/3.10.12/envs/llm-app/lib/python3.10/site-packages (from google-auth>=1.0.1->kubernetes>=28.1.0->chromadb) (5.5.2)\n",
      "Requirement already satisfied: pyasn1-modules>=0.2.1 in /Users/r00360/.pyenv/versions/3.10.12/envs/llm-app/lib/python3.10/site-packages (from google-auth>=1.0.1->kubernetes>=28.1.0->chromadb) (0.4.2)\n",
      "Requirement already satisfied: fsspec>=2023.5.0 in /Users/r00360/.pyenv/versions/3.10.12/envs/llm-app/lib/python3.10/site-packages (from huggingface-hub<1.0,>=0.16.4->tokenizers>=0.13.2->chromadb) (2025.3.2)\n",
      "Requirement already satisfied: filelock in /Users/r00360/.pyenv/versions/3.10.12/envs/llm-app/lib/python3.10/site-packages (from huggingface-hub<1.0,>=0.16.4->tokenizers>=0.13.2->chromadb) (3.18.0)\n",
      "Requirement already satisfied: zipp>=3.20 in /Users/r00360/.pyenv/versions/3.10.12/envs/llm-app/lib/python3.10/site-packages (from importlib-metadata<8.7.0,>=6.0->opentelemetry-api>=1.2.0->chromadb) (3.21.0)\n",
      "Requirement already satisfied: mdurl~=0.1 in /Users/r00360/.pyenv/versions/3.10.12/envs/llm-app/lib/python3.10/site-packages (from markdown-it-py>=2.2.0->rich>=10.11.0->chromadb) (0.1.2)\n",
      "Requirement already satisfied: mypy-extensions>=0.3.0 in /Users/r00360/.pyenv/versions/3.10.12/envs/llm-app/lib/python3.10/site-packages (from typing-inspect<1,>=0.4.0->dataclasses-json<0.7,>=0.5.7->langchain-community) (1.0.0)\n",
      "Requirement already satisfied: humanfriendly>=9.1 in /Users/r00360/.pyenv/versions/3.10.12/envs/llm-app/lib/python3.10/site-packages (from coloredlogs->onnxruntime>=1.14.1->chromadb) (10.0)\n",
      "Requirement already satisfied: mpmath<1.4,>=1.1.0 in /Users/r00360/.pyenv/versions/3.10.12/envs/llm-app/lib/python3.10/site-packages (from sympy->onnxruntime>=1.14.1->chromadb) (1.3.0)\n",
      "Requirement already satisfied: pyasn1<0.7.0,>=0.6.1 in /Users/r00360/.pyenv/versions/3.10.12/envs/llm-app/lib/python3.10/site-packages (from pyasn1-modules>=0.2.1->google-auth>=1.0.1->kubernetes>=28.1.0->chromadb) (0.6.1)\n",
      "\n",
      "\u001b[1m[\u001b[0m\u001b[34;49mnotice\u001b[0m\u001b[1;39;49m]\u001b[0m\u001b[39;49m A new release of pip is available: \u001b[0m\u001b[31;49m23.0.1\u001b[0m\u001b[39;49m -> \u001b[0m\u001b[32;49m25.0.1\u001b[0m\n",
      "\u001b[1m[\u001b[0m\u001b[34;49mnotice\u001b[0m\u001b[1;39;49m]\u001b[0m\u001b[39;49m To update, run: \u001b[0m\u001b[32;49mpip install --upgrade pip\u001b[0m\n",
      "Note: you may need to restart the kernel to use updated packages.\n"
     ]
    }
   ],
   "source": [
    "%pip install langchain langchain_openai langsmith pandas langchain_experimental matplotlib langgraph langchain_core duckduckgo-search langchain-community chromadb"
   ]
  },
  {
   "cell_type": "markdown",
   "metadata": {},
   "source": [
    "## 사용자 정의 함수\n",
    "\n",
    "### @tool decorator\n",
    "\n",
    "@tool 데코레이터는 사용자 정의 도구(custom tool)를 정의하는 가장 간단한 방법입니다. \n",
    "이 데코레이터는 기본적으로 함수 이름을 도구 이름으로 사용하지만, 첫 번째 인자로 문자열을 전달하여 이를 재정의할 수 있습니다.\n",
    "\n",
    "또한, 함수의 닥스트링(docstring)을 도구의 설명으로 사용하므로 반드시 닥스트링을 제공해야 합니다."
   ]
  },
  {
   "cell_type": "code",
   "execution_count": 9,
   "metadata": {},
   "outputs": [
    {
     "name": "stdout",
     "output_type": "stream",
     "text": [
      "multiply\n",
      "Multiply two numbers.\n",
      "{'a': {'title': 'A', 'type': 'integer'}, 'b': {'title': 'B', 'type': 'integer'}}\n"
     ]
    }
   ],
   "source": [
    "from langchain_core.tools import tool\n",
    "\n",
    "\n",
    "@tool\n",
    "def multiply(a: int, b: int) -> int:\n",
    "    \"\"\"Multiply two numbers.\"\"\"\n",
    "    return a * b\n",
    "\n",
    "\n",
    "# Let's inspect some of the attributes associated with the tool.\n",
    "print(multiply.name)\n",
    "print(multiply.description)\n",
    "print(multiply.args)"
   ]
  },
  {
   "cell_type": "markdown",
   "metadata": {},
   "source": [
    "@tool 데코레이터는 주석(annotation) parsing, 중첩 스키마(nested schemas), 기타 기능을 지원한다는 점에 유의하세요:"
   ]
  },
  {
   "cell_type": "code",
   "execution_count": null,
   "metadata": {},
   "outputs": [],
   "source": [
    "from langchain_core.tools import tool\n",
    "from typing import Annotated, List\n",
    "\n",
    "\n",
    "@tool\n",
    "def multiply_by_max(\n",
    "    a: Annotated[int, \"scale factor\"],\n",
    "    b: Annotated[List[int], \"list of ints over which to take maximum\"],\n",
    ") -> int:\n",
    "    \"\"\"Multiply a by the maximum of b.\"\"\"\n",
    "    return a * max(b)\n",
    "\n",
    "\n",
    "print(multiply_by_max.args_schema.model_json_schema())"
   ]
  },
  {
   "cell_type": "code",
   "execution_count": 10,
   "metadata": {},
   "outputs": [
    {
     "name": "stdout",
     "output_type": "stream",
     "text": [
      "{'description': 'The foo.', 'properties': {'bar': {'description': 'The bar.', 'title': 'Bar', 'type': 'string'}, 'baz': {'description': 'The baz.', 'title': 'Baz', 'type': 'integer'}}, 'required': ['bar', 'baz'], 'title': 'foo', 'type': 'object'}\n"
     ]
    }
   ],
   "source": [
    "@tool(parse_docstring=True)\n",
    "def foo(bar: str, baz: int) -> str:\n",
    "    \"\"\"The foo.\n",
    "\n",
    "    Args:\n",
    "        bar: The bar.\n",
    "        baz: The baz.\n",
    "    \"\"\"\n",
    "    return bar\n",
    "\n",
    "\n",
    "print(foo.args_schema.model_json_schema())"
   ]
  },
  {
   "cell_type": "code",
   "execution_count": 5,
   "metadata": {},
   "outputs": [],
   "source": [
    "from langchain_openai import ChatOpenAI\n",
    "\n",
    "llm = ChatOpenAI(\n",
    "    model=\"gpt-4o-mini\",\n",
    "    temperature=0,\n",
    ")"
   ]
  },
  {
   "cell_type": "code",
   "execution_count": 11,
   "metadata": {},
   "outputs": [],
   "source": [
    "tools = [multiply]\n",
    "llm_with_tools = llm.bind_tools(tools)"
   ]
  },
  {
   "cell_type": "code",
   "execution_count": 12,
   "metadata": {},
   "outputs": [
    {
     "name": "stdout",
     "output_type": "stream",
     "text": [
      "================================\u001b[1m System Message \u001b[0m================================\n",
      "\n",
      "You are a helpful assistant.\n",
      "\n",
      "================================\u001b[1m Human Message \u001b[0m=================================\n",
      "\n",
      "\u001b[33;1m\u001b[1;3m{input}\u001b[0m\n",
      "\n",
      "=============================\u001b[1m Messages Placeholder \u001b[0m=============================\n",
      "\n",
      "\u001b[33;1m\u001b[1;3m{agent_scratchpad}\u001b[0m\n"
     ]
    }
   ],
   "source": [
    "from langchain import hub\n",
    "\n",
    "# Fetches the latest version of this prompt\n",
    "prompt = hub.pull(\"wfh/langsmith-agent-prompt:5d466cbc\")\n",
    "prompt.pretty_print()"
   ]
  },
  {
   "cell_type": "code",
   "execution_count": 13,
   "metadata": {},
   "outputs": [],
   "source": [
    "from langchain.agents import AgentExecutor\n",
    "from langchain.agents.format_scratchpad.openai_tools import (\n",
    "    format_to_openai_tool_messages,\n",
    ")\n",
    "from langchain.agents.output_parsers.openai_tools import OpenAIToolsAgentOutputParser\n",
    "\n",
    "runnable_agent = (\n",
    "    {\n",
    "        \"input\": lambda x: x[\"input\"],\n",
    "        \"agent_scratchpad\": lambda x: format_to_openai_tool_messages(\n",
    "            x[\"intermediate_steps\"]\n",
    "        ),\n",
    "    }\n",
    "    | prompt\n",
    "    | llm_with_tools\n",
    "    | OpenAIToolsAgentOutputParser()\n",
    ")\n",
    "\n",
    "agent_executor = AgentExecutor(\n",
    "    agent=runnable_agent, tools=tools, handle_parsing_errors=True\n",
    ")"
   ]
  },
  {
   "cell_type": "code",
   "execution_count": 14,
   "metadata": {},
   "outputs": [
    {
     "data": {
      "text/plain": [
       "{'input': '6*7을 계산해줘', 'output': '6 * 7의 결과는 42입니다.'}"
      ]
     },
     "execution_count": 14,
     "metadata": {},
     "output_type": "execute_result"
    }
   ],
   "source": [
    "results = agent_executor.invoke({\"input\":\"6*7을 계산해줘\"})\n",
    "results"
   ]
  },
  {
   "cell_type": "markdown",
   "metadata": {},
   "source": []
  }
 ],
 "metadata": {
  "kernelspec": {
   "display_name": "llm-app",
   "language": "python",
   "name": "python3"
  },
  "language_info": {
   "codemirror_mode": {
    "name": "ipython",
    "version": 3
   },
   "file_extension": ".py",
   "mimetype": "text/x-python",
   "name": "python",
   "nbconvert_exporter": "python",
   "pygments_lexer": "ipython3",
   "version": "3.10.12"
  }
 },
 "nbformat": 4,
 "nbformat_minor": 2
}
